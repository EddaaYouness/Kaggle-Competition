{
 "cells": [
  {
   "cell_type": "markdown",
   "metadata": {
    "id": "vJ338UuY2C4m"
   },
   "source": [
    "# L3-SID INTRODUCTION AU MACHINE LEARNING\n",
    "## TP 3 + projet: Apprentissage via scikit-learn"
   ]
  },
  {
   "cell_type": "markdown",
   "metadata": {
    "id": "Ds_BN0Pg2C4s"
   },
   "source": [
    "## Objectifs du TP\n",
    "Le travail sera commencé en séance puis terminé sous forme de projet qui\n",
    "devra être rendu dans un notebook python pour l’ensemble du TP. Il devra s’agir d’un travail PERSONNEL. Vous noterez vos réponses ainsi que vos commentaires, vos choix, vos figures et vos discussions sur les\n",
    "résultats directement dans le notebook. Le devoir devra être déposé sur moodle avant le (date à preciser par l'enseignant). \n",
    "Dans ce TP, on utilisera la base `titanic`.\n",
    "\n",
    "## Chargement de la base et sélection des données\n",
    "\n",
    "* Téléchargez la base *titanic.csv* et chargez-la dans un DataFrame (pandas), noté *df* (pandas).\n",
    "* Affichez les attributs de la base et leur nombre. De quel type sont-ils (réels, nominaux ou variables binaires,...) ? Combien y a-t-il de classes ?\n",
    "*  Vous devez maintenant nettoyer la base :\n",
    "    * Retirer les colonnes qui vous semblent inutiles pour l'apprentissage à l'aide de *df.drop(index)*\n",
    "    * Certaines variables sont nominatives et scikit learn ne traite que des variables numériques. Transformer les variables numériques en variables binaires à de *pandas.get\\_dummies*\n",
    "    * remplacer les valeurs nan par la moyenne à l'aide de *df.fillna*\n",
    "* Afin de créer une base d'apprentissage et une base de test, créez une fonction *split(df,p)* qui séparera et retournera deux DataFrames, notés *train* et *test* dont la taille est déterminée par un pourcentage *p* passé en paramètre (60/40%, 70/30%,...). Appliquez la fonction à *df*."
   ]
  },
  {
   "cell_type": "markdown",
   "metadata": {
    "id": "ETpkFzicMKso"
   },
   "source": [
    "#Import Libraries :"
   ]
  },
  {
   "cell_type": "code",
   "execution_count": 275,
   "metadata": {
    "id": "co0BgafJMJ15"
   },
   "outputs": [],
   "source": [
    "import numpy as np # linear algebra\n",
    "from numpy import mean\n",
    "import pandas as pd # data processing, CSV file I/O (e.g. pd.read_csv)\n",
    "import seaborn as sns # Pour les graphs\n",
    "import matplotlib.pyplot as plt\n",
    "import random #Viz Seaborn Graphics\n",
    "from sklearn.preprocessing import StandardScaler #For Scaling Data \n",
    "\n",
    "from math import log2 #Entropi"
   ]
  },
  {
   "cell_type": "markdown",
   "metadata": {
    "id": "rlvc0R_aMTZ9"
   },
   "source": [
    "#Load the Data : 💻"
   ]
  },
  {
   "cell_type": "code",
   "execution_count": 276,
   "metadata": {
    "colab": {
     "base_uri": "https://localhost:8080/"
    },
    "id": "P1diLzsrMS-C",
    "outputId": "b7a10ffe-ae08-40bf-ddec-fd6a4d4e711a"
   },
   "outputs": [
    {
     "data": {
      "text/plain": [
       "(891, 12)"
      ]
     },
     "execution_count": 276,
     "metadata": {},
     "output_type": "execute_result"
    }
   ],
   "source": [
    "df = pd.read_csv(\"/content/titanic.csv\") #Importation des données\n",
    "df.shape # n=891 & d=12"
   ]
  },
  {
   "cell_type": "code",
   "execution_count": 277,
   "metadata": {
    "colab": {
     "base_uri": "https://localhost:8080/",
     "height": 206
    },
    "id": "9P4f8Lx7MYRh",
    "outputId": "a1166e66-9b32-4213-f6c0-86152b27a1ad"
   },
   "outputs": [
    {
     "data": {
      "text/html": [
       "\n",
       "  <div id=\"df-fcc4d990-5978-4229-9510-0388e41deed0\">\n",
       "    <div class=\"colab-df-container\">\n",
       "      <div>\n",
       "<style scoped>\n",
       "    .dataframe tbody tr th:only-of-type {\n",
       "        vertical-align: middle;\n",
       "    }\n",
       "\n",
       "    .dataframe tbody tr th {\n",
       "        vertical-align: top;\n",
       "    }\n",
       "\n",
       "    .dataframe thead th {\n",
       "        text-align: right;\n",
       "    }\n",
       "</style>\n",
       "<table border=\"1\" class=\"dataframe\">\n",
       "  <thead>\n",
       "    <tr style=\"text-align: right;\">\n",
       "      <th></th>\n",
       "      <th>PassengerId</th>\n",
       "      <th>Survived</th>\n",
       "      <th>Pclass</th>\n",
       "      <th>Name</th>\n",
       "      <th>Sex</th>\n",
       "      <th>Age</th>\n",
       "      <th>SibSp</th>\n",
       "      <th>Parch</th>\n",
       "      <th>Ticket</th>\n",
       "      <th>Fare</th>\n",
       "      <th>Cabin</th>\n",
       "      <th>Embarked</th>\n",
       "    </tr>\n",
       "  </thead>\n",
       "  <tbody>\n",
       "    <tr>\n",
       "      <th>0</th>\n",
       "      <td>1</td>\n",
       "      <td>0</td>\n",
       "      <td>3</td>\n",
       "      <td>Braund, Mr. Owen Harris</td>\n",
       "      <td>male</td>\n",
       "      <td>22.0</td>\n",
       "      <td>1</td>\n",
       "      <td>0</td>\n",
       "      <td>A/5 21171</td>\n",
       "      <td>7.2500</td>\n",
       "      <td>NaN</td>\n",
       "      <td>S</td>\n",
       "    </tr>\n",
       "    <tr>\n",
       "      <th>1</th>\n",
       "      <td>2</td>\n",
       "      <td>1</td>\n",
       "      <td>1</td>\n",
       "      <td>Cumings, Mrs. John Bradley (Florence Briggs Th...</td>\n",
       "      <td>female</td>\n",
       "      <td>38.0</td>\n",
       "      <td>1</td>\n",
       "      <td>0</td>\n",
       "      <td>PC 17599</td>\n",
       "      <td>71.2833</td>\n",
       "      <td>C85</td>\n",
       "      <td>C</td>\n",
       "    </tr>\n",
       "    <tr>\n",
       "      <th>2</th>\n",
       "      <td>3</td>\n",
       "      <td>1</td>\n",
       "      <td>3</td>\n",
       "      <td>Heikkinen, Miss. Laina</td>\n",
       "      <td>female</td>\n",
       "      <td>26.0</td>\n",
       "      <td>0</td>\n",
       "      <td>0</td>\n",
       "      <td>STON/O2. 3101282</td>\n",
       "      <td>7.9250</td>\n",
       "      <td>NaN</td>\n",
       "      <td>S</td>\n",
       "    </tr>\n",
       "    <tr>\n",
       "      <th>3</th>\n",
       "      <td>4</td>\n",
       "      <td>1</td>\n",
       "      <td>1</td>\n",
       "      <td>Futrelle, Mrs. Jacques Heath (Lily May Peel)</td>\n",
       "      <td>female</td>\n",
       "      <td>35.0</td>\n",
       "      <td>1</td>\n",
       "      <td>0</td>\n",
       "      <td>113803</td>\n",
       "      <td>53.1000</td>\n",
       "      <td>C123</td>\n",
       "      <td>S</td>\n",
       "    </tr>\n",
       "    <tr>\n",
       "      <th>4</th>\n",
       "      <td>5</td>\n",
       "      <td>0</td>\n",
       "      <td>3</td>\n",
       "      <td>Allen, Mr. William Henry</td>\n",
       "      <td>male</td>\n",
       "      <td>35.0</td>\n",
       "      <td>0</td>\n",
       "      <td>0</td>\n",
       "      <td>373450</td>\n",
       "      <td>8.0500</td>\n",
       "      <td>NaN</td>\n",
       "      <td>S</td>\n",
       "    </tr>\n",
       "  </tbody>\n",
       "</table>\n",
       "</div>\n",
       "      <button class=\"colab-df-convert\" onclick=\"convertToInteractive('df-fcc4d990-5978-4229-9510-0388e41deed0')\"\n",
       "              title=\"Convert this dataframe to an interactive table.\"\n",
       "              style=\"display:none;\">\n",
       "        \n",
       "  <svg xmlns=\"http://www.w3.org/2000/svg\" height=\"24px\"viewBox=\"0 0 24 24\"\n",
       "       width=\"24px\">\n",
       "    <path d=\"M0 0h24v24H0V0z\" fill=\"none\"/>\n",
       "    <path d=\"M18.56 5.44l.94 2.06.94-2.06 2.06-.94-2.06-.94-.94-2.06-.94 2.06-2.06.94zm-11 1L8.5 8.5l.94-2.06 2.06-.94-2.06-.94L8.5 2.5l-.94 2.06-2.06.94zm10 10l.94 2.06.94-2.06 2.06-.94-2.06-.94-.94-2.06-.94 2.06-2.06.94z\"/><path d=\"M17.41 7.96l-1.37-1.37c-.4-.4-.92-.59-1.43-.59-.52 0-1.04.2-1.43.59L10.3 9.45l-7.72 7.72c-.78.78-.78 2.05 0 2.83L4 21.41c.39.39.9.59 1.41.59.51 0 1.02-.2 1.41-.59l7.78-7.78 2.81-2.81c.8-.78.8-2.07 0-2.86zM5.41 20L4 18.59l7.72-7.72 1.47 1.35L5.41 20z\"/>\n",
       "  </svg>\n",
       "      </button>\n",
       "      \n",
       "  <style>\n",
       "    .colab-df-container {\n",
       "      display:flex;\n",
       "      flex-wrap:wrap;\n",
       "      gap: 12px;\n",
       "    }\n",
       "\n",
       "    .colab-df-convert {\n",
       "      background-color: #E8F0FE;\n",
       "      border: none;\n",
       "      border-radius: 50%;\n",
       "      cursor: pointer;\n",
       "      display: none;\n",
       "      fill: #1967D2;\n",
       "      height: 32px;\n",
       "      padding: 0 0 0 0;\n",
       "      width: 32px;\n",
       "    }\n",
       "\n",
       "    .colab-df-convert:hover {\n",
       "      background-color: #E2EBFA;\n",
       "      box-shadow: 0px 1px 2px rgba(60, 64, 67, 0.3), 0px 1px 3px 1px rgba(60, 64, 67, 0.15);\n",
       "      fill: #174EA6;\n",
       "    }\n",
       "\n",
       "    [theme=dark] .colab-df-convert {\n",
       "      background-color: #3B4455;\n",
       "      fill: #D2E3FC;\n",
       "    }\n",
       "\n",
       "    [theme=dark] .colab-df-convert:hover {\n",
       "      background-color: #434B5C;\n",
       "      box-shadow: 0px 1px 3px 1px rgba(0, 0, 0, 0.15);\n",
       "      filter: drop-shadow(0px 1px 2px rgba(0, 0, 0, 0.3));\n",
       "      fill: #FFFFFF;\n",
       "    }\n",
       "  </style>\n",
       "\n",
       "      <script>\n",
       "        const buttonEl =\n",
       "          document.querySelector('#df-fcc4d990-5978-4229-9510-0388e41deed0 button.colab-df-convert');\n",
       "        buttonEl.style.display =\n",
       "          google.colab.kernel.accessAllowed ? 'block' : 'none';\n",
       "\n",
       "        async function convertToInteractive(key) {\n",
       "          const element = document.querySelector('#df-fcc4d990-5978-4229-9510-0388e41deed0');\n",
       "          const dataTable =\n",
       "            await google.colab.kernel.invokeFunction('convertToInteractive',\n",
       "                                                     [key], {});\n",
       "          if (!dataTable) return;\n",
       "\n",
       "          const docLinkHtml = 'Like what you see? Visit the ' +\n",
       "            '<a target=\"_blank\" href=https://colab.research.google.com/notebooks/data_table.ipynb>data table notebook</a>'\n",
       "            + ' to learn more about interactive tables.';\n",
       "          element.innerHTML = '';\n",
       "          dataTable['output_type'] = 'display_data';\n",
       "          await google.colab.output.renderOutput(dataTable, element);\n",
       "          const docLink = document.createElement('div');\n",
       "          docLink.innerHTML = docLinkHtml;\n",
       "          element.appendChild(docLink);\n",
       "        }\n",
       "      </script>\n",
       "    </div>\n",
       "  </div>\n",
       "  "
      ],
      "text/plain": [
       "   PassengerId  Survived  Pclass                                               Name     Sex   Age  SibSp  Parch            Ticket     Fare Cabin Embarked\n",
       "0            1         0       3                            Braund, Mr. Owen Harris    male  22.0      1      0         A/5 21171   7.2500   NaN        S\n",
       "1            2         1       1  Cumings, Mrs. John Bradley (Florence Briggs Th...  female  38.0      1      0          PC 17599  71.2833   C85        C\n",
       "2            3         1       3                             Heikkinen, Miss. Laina  female  26.0      0      0  STON/O2. 3101282   7.9250   NaN        S\n",
       "3            4         1       1       Futrelle, Mrs. Jacques Heath (Lily May Peel)  female  35.0      1      0            113803  53.1000  C123        S\n",
       "4            5         0       3                           Allen, Mr. William Henry    male  35.0      0      0            373450   8.0500   NaN        S"
      ]
     },
     "execution_count": 277,
     "metadata": {},
     "output_type": "execute_result"
    }
   ],
   "source": [
    "df.head()"
   ]
  },
  {
   "cell_type": "markdown",
   "metadata": {
    "id": "kQ3tsI4tMbsA"
   },
   "source": [
    "#Feautures : ✅"
   ]
  },
  {
   "cell_type": "markdown",
   "metadata": {
    "id": "B7O4R4v1Mf2v"
   },
   "source": [
    "*Notre jeu de données contient 12 variables et 891 individus .*\n",
    "\n",
    "---\n",
    "\n",
    "# *Quantitative* :  \n",
    "*   ***Continues*** : \n",
    "1.  Fare : Tarif passager\n",
    "\n",
    "---\n",
    "\n",
    "\n",
    "*   ***Discrets*** : *Elles ne peuvent prendre que des valeurs numériques entières.*\n",
    "1.   Age : l'age en années.\n",
    "2.   Sibsp : Nombre des frères et sœurs / conjoints au bord du Titanic.\n",
    "3.   Parch :  Nombre des parnets / enfants au bord du Titanic.\n",
    "\n",
    "\n",
    "\n",
    "---\n",
    "\n",
    "# *Qualitative* : \n",
    "*   ***Binaires*** : *Elles ne possèdent que deux modalités (deux classes) possibles.*\n",
    "1.   Survived : 0 = Non, 1 = Oui\n",
    "2.   Sex : Male or Female\n",
    "\n",
    "---\n",
    "\n",
    "*   ***Odinales*** : *Il existe un gradient qui permet de les classer dans un ordre logique.*\n",
    "1.   Pclass : Variabel Ordinale à 3 Classes.\n",
    "\n",
    "---\n",
    "\n",
    "*   ***Nominales*** : \n",
    "1.   Embarked : à 3 classes (Port d'Embarquation, C = Cherbourg, Q = Queenstown, S = Southampton) \n",
    "\n",
    "---\n",
    "*   PassengerID : Corresponds à l'identifiant de passager --> Varible inutile.\n",
    "*   Name : Variable de type string.\n",
    "*  Ticket : Variable de type string (Numero du Ticket).\n",
    "* Cabin : Variable de type string (Numero du cabin).\n"
   ]
  },
  {
   "cell_type": "markdown",
   "metadata": {
    "id": "3-zn-NpyMrLN"
   },
   "source": [
    "🛑 On servira pas de L'identifiant de passager : **PassengerId**, son nom **Name** et son **Ticket**, **Cabin**."
   ]
  },
  {
   "cell_type": "markdown",
   "metadata": {
    "id": "oci5mHT2MvBf"
   },
   "source": [
    "#Data Preprocessing : 🔁"
   ]
  },
  {
   "cell_type": "code",
   "execution_count": 278,
   "metadata": {
    "colab": {
     "base_uri": "https://localhost:8080/"
    },
    "id": "sUiaeSR2NlkN",
    "outputId": "77012edc-90f9-4822-d253-288a201a3f33"
   },
   "outputs": [
    {
     "name": "stdout",
     "output_type": "stream",
     "text": [
      "<class 'pandas.core.frame.DataFrame'>\n",
      "RangeIndex: 891 entries, 0 to 890\n",
      "Data columns (total 12 columns):\n",
      " #   Column       Non-Null Count  Dtype  \n",
      "---  ------       --------------  -----  \n",
      " 0   PassengerId  891 non-null    int64  \n",
      " 1   Survived     891 non-null    int64  \n",
      " 2   Pclass       891 non-null    int64  \n",
      " 3   Name         891 non-null    object \n",
      " 4   Sex          891 non-null    object \n",
      " 5   Age          714 non-null    float64\n",
      " 6   SibSp        891 non-null    int64  \n",
      " 7   Parch        891 non-null    int64  \n",
      " 8   Ticket       891 non-null    object \n",
      " 9   Fare         891 non-null    float64\n",
      " 10  Cabin        204 non-null    object \n",
      " 11  Embarked     889 non-null    object \n",
      "dtypes: float64(2), int64(5), object(5)\n",
      "memory usage: 83.7+ KB\n"
     ]
    }
   ],
   "source": [
    "df.info() #Age and Embarked have some missing values to handle"
   ]
  },
  {
   "cell_type": "code",
   "execution_count": 279,
   "metadata": {
    "id": "SWO2MKAiMZMZ"
   },
   "outputs": [],
   "source": [
    "# Cette fonction afficher le pourcentage des valeures manquantes par chaque colonne :\n",
    "def percent_missing_values(df) :\n",
    "    percent_missing = df.isnull().sum() * 100 / len(df)\n",
    "    missing_value_df = pd.DataFrame({'column_name': df.columns,\n",
    "                                 'percent_missing': percent_missing})\n",
    "    return missing_value_df.percent_missing.sort_values( ascending = False)"
   ]
  },
  {
   "cell_type": "code",
   "execution_count": 280,
   "metadata": {
    "colab": {
     "base_uri": "https://localhost:8080/"
    },
    "id": "ugUcTlYPM8uI",
    "outputId": "075161cb-a565-4c76-f5e4-8d2f2607cd6a"
   },
   "outputs": [
    {
     "name": "stdout",
     "output_type": "stream",
     "text": [
      "Les valeurs manquantes : \n",
      " Cabin          77.104377\n",
      "Age            19.865320\n",
      "Embarked        0.224467\n",
      "PassengerId     0.000000\n",
      "Survived        0.000000\n",
      "Pclass          0.000000\n",
      "Name            0.000000\n",
      "Sex             0.000000\n",
      "SibSp           0.000000\n",
      "Parch           0.000000\n",
      "Ticket          0.000000\n",
      "Fare            0.000000\n",
      "Name: percent_missing, dtype: float64\n"
     ]
    }
   ],
   "source": [
    "print(\"Les valeurs manquantes : \\n\",percent_missing_values(df))"
   ]
  },
  {
   "cell_type": "code",
   "execution_count": 281,
   "metadata": {
    "colab": {
     "base_uri": "https://localhost:8080/",
     "height": 411
    },
    "id": "ihQhVN4YN-0N",
    "outputId": "645a1135-18e1-426f-f2fd-5537fed3a38a"
   },
   "outputs": [
    {
     "data": {
      "text/plain": [
       "<Figure size 1296x1152 with 0 Axes>"
      ]
     },
     "metadata": {},
     "output_type": "display_data"
    },
    {
     "data": {
      "image/png": "[encoded data removed]",
      "text/plain": [
       "<Figure size 1141.25x360 with 1 Axes>"
      ]
     },
     "metadata": {
      "needs_background": "light"
     },
     "output_type": "display_data"
    }
   ],
   "source": [
    "#Bar Plot montrant le pourcentage des valeurs manquants sur les données du Titanic : Age/Cabin\n",
    "plt.figure(figsize=(18,16))\n",
    "sns.displot(\n",
    "    data=df.isna().melt(value_name=\"missing\"),\n",
    "    y=\"variable\",\n",
    "    hue=\"missing\",\n",
    "    multiple=\"fill\",\n",
    "    aspect=3,\n",
    "    palette='copper' \n",
    ")\n",
    "plt.title('Bar plot showing Missing Values in Titanic Data', weight = 'bold', size = 20, color = 'blue')\n",
    "plt.xlabel(\" Percentage \")\n",
    "plt.ylabel(\" Columns \")\n",
    "plt.xticks(size = 12, weight = 'bold', color = 'maroon')\n",
    "plt.yticks(size = 12, weight = 'bold', color = 'maroon');"
   ]
  },
  {
   "cell_type": "markdown",
   "metadata": {
    "id": "2J-jp5iJM_S4"
   },
   "source": [
    "⭕ *On a 77% des valeurs manquantes de la variable **Cabin** -----> On **supprimera** cette variable.*\n",
    "\n",
    "⭕ *Pour la variables **Age** (resp **Embarked**)  -----> on essaiera de les remplacer par **Median** (resp **Mode**) .*"
   ]
  },
  {
   "cell_type": "markdown",
   "metadata": {
    "id": "TP8VW3CHSDJ2"
   },
   "source": [
    "#Par Quoi on remplace les Nans : Mean or Mode ?"
   ]
  },
  {
   "cell_type": "code",
   "execution_count": 282,
   "metadata": {
    "colab": {
     "base_uri": "https://localhost:8080/",
     "height": 499
    },
    "id": "ok-ijnoLSFkv",
    "outputId": "a2e95558-aab9-4c6a-cc9c-0358b4703223"
   },
   "outputs": [
    {
     "data": {
      "image/png": "[encoded data removed]",
      "text/plain": [
       "<Figure size 720x576 with 1 Axes>"
      ]
     },
     "metadata": {
      "needs_background": "light"
     },
     "output_type": "display_data"
    }
   ],
   "source": [
    "#Pour avoir une idée laquelle sure mieux à remplacer par :  Mean or Median\n",
    "mean_list = ['Age']\n",
    "plt.figure(figsize= (10,8))\n",
    "for i, col in enumerate(mean_list)  : \n",
    "    plt.subplot(1,1,i+1)\n",
    "    df[col].plot(kind='hist', bins=20,title = f'Distribution of: {col}')\n",
    "    plt.axvline(df[col].mean(), color='black')   # Black  == Mean\n",
    "    plt.axvline(df[col].median(),color='orange') # Orange == Median"
   ]
  },
  {
   "cell_type": "code",
   "execution_count": 283,
   "metadata": {
    "id": "c1G68CFoMZpP"
   },
   "outputs": [],
   "source": [
    "medianAgeTrain = df['Age'].median()   \n",
    "modeEmbarkedTrain = df[\"Embarked\"].mode()[0]\n",
    "\n",
    "def cleanData(data):  \n",
    "    clean_data = data.copy(deep=True)\n",
    "    clean_data = clean_data.drop([\"PassengerId\",\"Name\",\"Ticket\",\"Cabin\"],axis=1) \n",
    "\n",
    "    # Missing Values : Age\n",
    "    clean_data['Age'].fillna(medianAgeTrain, inplace=True)\n",
    "    \n",
    "    # Missing Values : Embarked\n",
    "    clean_data[\"Embarked\"].fillna(modeEmbarkedTrain, inplace=True)\n",
    "        \n",
    "    # Onehotencding for Sex & Embarked attributes : Transformation en valeurs numériques\n",
    "    clean_data = pd.get_dummies(clean_data, columns=['Sex','Embarked'], drop_first=True)\n",
    "    \n",
    "    return clean_data"
   ]
  },
  {
   "cell_type": "code",
   "execution_count": 284,
   "metadata": {
    "id": "Vnq8JJKkMZwc"
   },
   "outputs": [],
   "source": [
    "clean_data = cleanData(df)"
   ]
  },
  {
   "cell_type": "code",
   "execution_count": 285,
   "metadata": {
    "colab": {
     "base_uri": "https://localhost:8080/",
     "height": 206
    },
    "id": "J94n-vTnMZ2w",
    "outputId": "bfff1054-867e-438b-fd05-51389da0a38b"
   },
   "outputs": [
    {
     "data": {
      "text/html": [
       "\n",
       "  <div id=\"df-0f919b5f-9e4d-4980-9d55-7a2c8d6bc3cf\">\n",
       "    <div class=\"colab-df-container\">\n",
       "      <div>\n",
       "<style scoped>\n",
       "    .dataframe tbody tr th:only-of-type {\n",
       "        vertical-align: middle;\n",
       "    }\n",
       "\n",
       "    .dataframe tbody tr th {\n",
       "        vertical-align: top;\n",
       "    }\n",
       "\n",
       "    .dataframe thead th {\n",
       "        text-align: right;\n",
       "    }\n",
       "</style>\n",
       "<table border=\"1\" class=\"dataframe\">\n",
       "  <thead>\n",
       "    <tr style=\"text-align: right;\">\n",
       "      <th></th>\n",
       "      <th>Survived</th>\n",
       "      <th>Pclass</th>\n",
       "      <th>Age</th>\n",
       "      <th>SibSp</th>\n",
       "      <th>Parch</th>\n",
       "      <th>Fare</th>\n",
       "      <th>Sex_male</th>\n",
       "      <th>Embarked_Q</th>\n",
       "      <th>Embarked_S</th>\n",
       "    </tr>\n",
       "  </thead>\n",
       "  <tbody>\n",
       "    <tr>\n",
       "      <th>0</th>\n",
       "      <td>0</td>\n",
       "      <td>3</td>\n",
       "      <td>22.0</td>\n",
       "      <td>1</td>\n",
       "      <td>0</td>\n",
       "      <td>7.2500</td>\n",
       "      <td>1</td>\n",
       "      <td>0</td>\n",
       "      <td>1</td>\n",
       "    </tr>\n",
       "    <tr>\n",
       "      <th>1</th>\n",
       "      <td>1</td>\n",
       "      <td>1</td>\n",
       "      <td>38.0</td>\n",
       "      <td>1</td>\n",
       "      <td>0</td>\n",
       "      <td>71.2833</td>\n",
       "      <td>0</td>\n",
       "      <td>0</td>\n",
       "      <td>0</td>\n",
       "    </tr>\n",
       "    <tr>\n",
       "      <th>2</th>\n",
       "      <td>1</td>\n",
       "      <td>3</td>\n",
       "      <td>26.0</td>\n",
       "      <td>0</td>\n",
       "      <td>0</td>\n",
       "      <td>7.9250</td>\n",
       "      <td>0</td>\n",
       "      <td>0</td>\n",
       "      <td>1</td>\n",
       "    </tr>\n",
       "    <tr>\n",
       "      <th>3</th>\n",
       "      <td>1</td>\n",
       "      <td>1</td>\n",
       "      <td>35.0</td>\n",
       "      <td>1</td>\n",
       "      <td>0</td>\n",
       "      <td>53.1000</td>\n",
       "      <td>0</td>\n",
       "      <td>0</td>\n",
       "      <td>1</td>\n",
       "    </tr>\n",
       "    <tr>\n",
       "      <th>4</th>\n",
       "      <td>0</td>\n",
       "      <td>3</td>\n",
       "      <td>35.0</td>\n",
       "      <td>0</td>\n",
       "      <td>0</td>\n",
       "      <td>8.0500</td>\n",
       "      <td>1</td>\n",
       "      <td>0</td>\n",
       "      <td>1</td>\n",
       "    </tr>\n",
       "  </tbody>\n",
       "</table>\n",
       "</div>\n",
       "      <button class=\"colab-df-convert\" onclick=\"convertToInteractive('df-0f919b5f-9e4d-4980-9d55-7a2c8d6bc3cf')\"\n",
       "              title=\"Convert this dataframe to an interactive table.\"\n",
       "              style=\"display:none;\">\n",
       "        \n",
       "  <svg xmlns=\"http://www.w3.org/2000/svg\" height=\"24px\"viewBox=\"0 0 24 24\"\n",
       "       width=\"24px\">\n",
       "    <path d=\"M0 0h24v24H0V0z\" fill=\"none\"/>\n",
       "    <path d=\"M18.56 5.44l.94 2.06.94-2.06 2.06-.94-2.06-.94-.94-2.06-.94 2.06-2.06.94zm-11 1L8.5 8.5l.94-2.06 2.06-.94-2.06-.94L8.5 2.5l-.94 2.06-2.06.94zm10 10l.94 2.06.94-2.06 2.06-.94-2.06-.94-.94-2.06-.94 2.06-2.06.94z\"/><path d=\"M17.41 7.96l-1.37-1.37c-.4-.4-.92-.59-1.43-.59-.52 0-1.04.2-1.43.59L10.3 9.45l-7.72 7.72c-.78.78-.78 2.05 0 2.83L4 21.41c.39.39.9.59 1.41.59.51 0 1.02-.2 1.41-.59l7.78-7.78 2.81-2.81c.8-.78.8-2.07 0-2.86zM5.41 20L4 18.59l7.72-7.72 1.47 1.35L5.41 20z\"/>\n",
       "  </svg>\n",
       "      </button>\n",
       "      \n",
       "  <style>\n",
       "    .colab-df-container {\n",
       "      display:flex;\n",
       "      flex-wrap:wrap;\n",
       "      gap: 12px;\n",
       "    }\n",
       "\n",
       "    .colab-df-convert {\n",
       "      background-color: #E8F0FE;\n",
       "      border: none;\n",
       "      border-radius: 50%;\n",
       "      cursor: pointer;\n",
       "      display: none;\n",
       "      fill: #1967D2;\n",
       "      height: 32px;\n",
       "      padding: 0 0 0 0;\n",
       "      width: 32px;\n",
       "    }\n",
       "\n",
       "    .colab-df-convert:hover {\n",
       "      background-color: #E2EBFA;\n",
       "      box-shadow: 0px 1px 2px rgba(60, 64, 67, 0.3), 0px 1px 3px 1px rgba(60, 64, 67, 0.15);\n",
       "      fill: #174EA6;\n",
       "    }\n",
       "\n",
       "    [theme=dark] .colab-df-convert {\n",
       "      background-color: #3B4455;\n",
       "      fill: #D2E3FC;\n",
       "    }\n",
       "\n",
       "    [theme=dark] .colab-df-convert:hover {\n",
       "      background-color: #434B5C;\n",
       "      box-shadow: 0px 1px 3px 1px rgba(0, 0, 0, 0.15);\n",
       "      filter: drop-shadow(0px 1px 2px rgba(0, 0, 0, 0.3));\n",
       "      fill: #FFFFFF;\n",
       "    }\n",
       "  </style>\n",
       "\n",
       "      <script>\n",
       "        const buttonEl =\n",
       "          document.querySelector('#df-0f919b5f-9e4d-4980-9d55-7a2c8d6bc3cf button.colab-df-convert');\n",
       "        buttonEl.style.display =\n",
       "          google.colab.kernel.accessAllowed ? 'block' : 'none';\n",
       "\n",
       "        async function convertToInteractive(key) {\n",
       "          const element = document.querySelector('#df-0f919b5f-9e4d-4980-9d55-7a2c8d6bc3cf');\n",
       "          const dataTable =\n",
       "            await google.colab.kernel.invokeFunction('convertToInteractive',\n",
       "                                                     [key], {});\n",
       "          if (!dataTable) return;\n",
       "\n",
       "          const docLinkHtml = 'Like what you see? Visit the ' +\n",
       "            '<a target=\"_blank\" href=https://colab.research.google.com/notebooks/data_table.ipynb>data table notebook</a>'\n",
       "            + ' to learn more about interactive tables.';\n",
       "          element.innerHTML = '';\n",
       "          dataTable['output_type'] = 'display_data';\n",
       "          await google.colab.output.renderOutput(dataTable, element);\n",
       "          const docLink = document.createElement('div');\n",
       "          docLink.innerHTML = docLinkHtml;\n",
       "          element.appendChild(docLink);\n",
       "        }\n",
       "      </script>\n",
       "    </div>\n",
       "  </div>\n",
       "  "
      ],
      "text/plain": [
       "   Survived  Pclass   Age  SibSp  Parch     Fare  Sex_male  Embarked_Q  Embarked_S\n",
       "0         0       3  22.0      1      0   7.2500         1           0           1\n",
       "1         1       1  38.0      1      0  71.2833         0           0           0\n",
       "2         1       3  26.0      0      0   7.9250         0           0           1\n",
       "3         1       1  35.0      1      0  53.1000         0           0           1\n",
       "4         0       3  35.0      0      0   8.0500         1           0           1"
      ]
     },
     "execution_count": 285,
     "metadata": {},
     "output_type": "execute_result"
    }
   ],
   "source": [
    "clean_data.head()"
   ]
  },
  {
   "cell_type": "markdown",
   "metadata": {
    "id": "BZRm4ITjNOVa"
   },
   "source": [
    "#***Split Data :***"
   ]
  },
  {
   "cell_type": "code",
   "execution_count": 286,
   "metadata": {
    "id": "J5U_0jxFNL77"
   },
   "outputs": [],
   "source": [
    "#p : est le pourcentage à donner pour les données d'entrainement (Train_data)\n",
    "def split(df,p) : \n",
    "  train_data = df.sample(frac=p, random_state=42)\n",
    "  test_data = df.drop(train_data.index)\n",
    "  return train_data , test_data\n",
    "\n",
    "train_data , test_data = split(clean_data,0.8)  #J'ai fait le choix de 80/20, içi on divise notre jeu de données qu'on vient de nettoyer."
   ]
  },
  {
   "cell_type": "markdown",
   "metadata": {
    "id": "Wklw7FVDNbgH"
   },
   "source": [
    "#Satatistics Desc : ✅"
   ]
  },
  {
   "cell_type": "code",
   "execution_count": 287,
   "metadata": {
    "colab": {
     "base_uri": "https://localhost:8080/",
     "height": 607
    },
    "id": "knveyhCyNMdI",
    "outputId": "80ede86e-eedc-4392-a9b9-d1a940b19a82"
   },
   "outputs": [
    {
     "data": {
      "image/png": "[encoded data removed]",
      "text/plain": [
       "<Figure size 864x720 with 9 Axes>"
      ]
     },
     "metadata": {
      "needs_background": "light"
     },
     "output_type": "display_data"
    }
   ],
   "source": [
    "clean_data.hist(bins=50, figsize=(12,10)) \n",
    "plt.show()"
   ]
  },
  {
   "cell_type": "markdown",
   "metadata": {
    "id": "ulyFIf4ZONeL"
   },
   "source": [
    "# Distribution des Variables :"
   ]
  },
  {
   "cell_type": "code",
   "execution_count": 288,
   "metadata": {
    "colab": {
     "base_uri": "https://localhost:8080/",
     "height": 810
    },
    "id": "a94qu1WYNMlA",
    "outputId": "fe65a22a-cfb2-48bd-891a-384e53825b24"
   },
   "outputs": [
    {
     "data": {
      "image/png": "[encoded data removed]",
      "text/plain": [
       "<Figure size 1152x1296 with 9 Axes>"
      ]
     },
     "metadata": {
      "needs_background": "light"
     },
     "output_type": "display_data"
    }
   ],
   "source": [
    "useful_cols = [col for col in clean_data.columns if col not in ['Cabin']]\n",
    "cols_dist = [col for col in useful_cols if col not in ['Survived','Pclass','Sex_male','SibSp','Parch','Embarked_Q','Embarked_S']]\n",
    "color_ = [ '#9D2417', '#AF41B4', '#003389' ,'#3C5F41',  '#967032', '#2734DE'] \n",
    "cmap_ = ['magma', 'copper', 'crest']\n",
    "\n",
    "\n",
    "plt.figure(figsize= (16,18))\n",
    "for i,col in enumerate(clean_data[useful_cols].columns):\n",
    "    rand_col = color_[random.sample(range(6), 1)[0]]\n",
    "    plt.subplot(5,3, i+1)\n",
    "    if col in cols_dist:\n",
    "        \n",
    "        sns.kdeplot(clean_data[col], color = rand_col, fill = rand_col )\n",
    "        plt.title(col,weight = 'bold', color = rand_col)\n",
    "        plt.ylabel(\" \")\n",
    "        plt.xlabel(\" \")\n",
    "        plt.tight_layout()\n",
    "    else:\n",
    "        sns.countplot(data = clean_data , x = col, palette = cmap_[random.sample(range(3), 1)[0]] )\n",
    "        plt.title(col,weight = 'bold', color = 'black')\n",
    "        plt.ylabel(\" \")\n",
    "        plt.xlabel(\" \")\n",
    "        plt.tight_layout()\n",
    "        \n",
    "# plt.subplot(5,3, 14)\n",
    "# sns.kdeplot(np.log(df['instrumentalness']), color = rand_col, fill = rand_col )\n",
    "# plt.title('instrumentalness (log transformed)',weight = 'bold', color = rand_col, size = 17)\n",
    "plt.ylabel(\" \")\n",
    "plt.xlabel(\" \")\n",
    "plt.tight_layout()\n",
    "plt.show();"
   ]
  },
  {
   "cell_type": "markdown",
   "metadata": {
    "id": "eDKHgQW-Q68U"
   },
   "source": [
    "# Visualisation : ✅"
   ]
  },
  {
   "cell_type": "code",
   "execution_count": 289,
   "metadata": {
    "colab": {
     "base_uri": "https://localhost:8080/",
     "height": 1000
    },
    "id": "opvpslFSNMsv",
    "outputId": "4cc166c7-10e2-4328-af3d-25b93478c625"
   },
   "outputs": [
    {
     "data": {
      "image/png": "[encoded data removed]",
      "text/plain": [
       "<Figure size 1150.5x360 with 3 Axes>"
      ]
     },
     "metadata": {
      "needs_background": "light"
     },
     "output_type": "display_data"
    },
    {
     "data": {
      "image/png": "[encoded data removed]",
      "text/plain": [
       "<Figure size 402.375x360 with 1 Axes>"
      ]
     },
     "metadata": {
      "needs_background": "light"
     },
     "output_type": "display_data"
    },
    {
     "data": {
      "image/png": "[encoded data removed]",
      "text/plain": [
       "<Figure size 402.375x360 with 1 Axes>"
      ]
     },
     "metadata": {
      "needs_background": "light"
     },
     "output_type": "display_data"
    },
    {
     "data": {
      "image/png": "[encoded data removed]",
      "text/plain": [
       "<Figure size 411.875x360 with 1 Axes>"
      ]
     },
     "metadata": {
      "needs_background": "light"
     },
     "output_type": "display_data"
    },
    {
     "data": {
      "image/png": "[encoded data removed]",
      "text/plain": [
       "<Figure size 411.875x360 with 1 Axes>"
      ]
     },
     "metadata": {
      "needs_background": "light"
     },
     "output_type": "display_data"
    }
   ],
   "source": [
    "#Visualisation avec Seaborn : \n",
    "sns.catplot(x=\"Pclass\" ,y = 'Survived',hue=\"Sex\", kind=\"bar\" ,col = 'Embarked', palette=\"ch:.25\", data=df)\n",
    "# On regarde que les femmes ont une pourcentage d'etre survvi plus que les hommes\n",
    "sns.catplot(x=\"Embarked\", y=\"Fare\", hue=\"Pclass\", kind=\"bar\", palette=\"ch:.25\", data=df)\n",
    "sns.catplot(x=\"Embarked\", y=\"Survived\", hue=\"Pclass\", kind=\"bar\", palette=\"ch:.25\", data=df)\n",
    "sns.catplot(x=\"Embarked\", hue=\"Survived\", kind=\"count\", palette=\"ch:.25\", data=df)\n",
    "sns.catplot(x=\"Pclass\", y=\"Age\",hue = \"Survived\", kind=\"bar\", palette=\"ch:.25\", data=df)\n",
    "plt.show()"
   ]
  },
  {
   "cell_type": "markdown",
   "metadata": {
    "id": "AQF9HIGmSXAG"
   },
   "source": [
    "#Scaling : Optionnel "
   ]
  },
  {
   "cell_type": "code",
   "execution_count": 290,
   "metadata": {
    "id": "RX3ep7ZuNM0n"
   },
   "outputs": [],
   "source": [
    "def featureScaling(data):\n",
    "    scaledData = data.copy().drop(\"Survived\", axis=1)   \n",
    "    scaler = StandardScaler()\n",
    "    scaler.fit(clean_train.drop(\"Survived\", axis=1)[:].values)\n",
    "    scaledData = pd.DataFrame(scaler.transform(scaledData), columns=scaledData.columns)\n",
    "    return scaledData"
   ]
  },
  {
   "cell_type": "code",
   "execution_count": 291,
   "metadata": {
    "id": "XDt-sImrSdPM"
   },
   "outputs": [],
   "source": [
    "# scaled_train , scaled_test = featureScaling(train_data), featureScaling(test_data)"
   ]
  },
  {
   "cell_type": "markdown",
   "metadata": {
    "id": "GxHcNqi32C4v"
   },
   "source": [
    "# Entropie\n",
    "Le but ici est de caculer l'entropie et de gain d'entropie comme pour la construction d'un arbre de décision.\n",
    "* Ecrire une fonction entropie qui prend une liste (ou un array numpy) de valeur binaires et qui calcule l'entropie. Appliquer cette fonction sur la classe.\n",
    "* Ecrire une fonction gain d'entropie qui prend une liste pour la classe (en binaire) et une liste pour les valeurs correspondantes d'un autre attribut (binaire aussi) \n",
    "* Calculer le gain d'entropie pour l'attribut pour le sexe et toutes les autres variables binaires que vous avez crées. Quelle serait le meilleur attribut pour démarrer un arbre de décision ?"
   ]
  },
  {
   "cell_type": "code",
   "execution_count": 292,
   "metadata": {
    "id": "r6xfZ-lISw0J"
   },
   "outputs": [],
   "source": [
    "def ndarray_to_tuple(ndarray) :         #Cette fonction prends les valeurs binaire d'une variable et renvoie une tuple comptant l'appartition de chaque élément.\n",
    "  unique, counts = np.unique(ndarray, return_counts=True)\n",
    "  d = dict(zip(unique, counts))\n",
    "  t =()\n",
    "  for i in list(d.keys()) : \n",
    "    t += (d[i],)\n",
    "  return t\n",
    "\n",
    "def entropie(s):                            #   Entré : Feature (Ex : df.Survived)\n",
    "  feature_values = s.values                 #   Acceder aux valeurs de notre variable (Ex : df.Survuved.values)\n",
    "  t = ndarray_to_tuple(feature_values)      #   Avoir le tuple qui permettre calculer les proportions  (Ex : t = (436,277))\n",
    "  if t[0]!=0 and t[1]!=0:\n",
    "    prop1 = t[0]/sum(t)\n",
    "    prop2 = t[1]/sum(t)\n",
    "    ent =  -prop1*(log2(prop1))-prop2*(log2(prop2))\n",
    "  else:\n",
    "    ent = 0\n",
    "  return ent"
   ]
  },
  {
   "cell_type": "markdown",
   "metadata": {
    "id": "_2mtI3LCS2xl"
   },
   "source": [
    "**⚡** ***Entropie de la classe Survived = 0.96*** :"
   ]
  },
  {
   "cell_type": "code",
   "execution_count": 293,
   "metadata": {
    "colab": {
     "base_uri": "https://localhost:8080/"
    },
    "id": "f9A8bZWlS0rB",
    "outputId": "9e2e6943-f5b7-40ea-edff-fe77d8d71933"
   },
   "outputs": [
    {
     "data": {
      "text/plain": [
       "0.9607079018756469"
      ]
     },
     "execution_count": 293,
     "metadata": {},
     "output_type": "execute_result"
    }
   ],
   "source": [
    "entropie(clean_data.Survived)"
   ]
  },
  {
   "cell_type": "markdown",
   "metadata": {
    "id": "54-7leb2TC9s"
   },
   "source": [
    "#***Gain*** : "
   ]
  },
  {
   "cell_type": "code",
   "execution_count": 294,
   "metadata": {
    "id": "6_-Ww4xRTGup"
   },
   "outputs": [],
   "source": [
    "def Entropie(s):   #Cette fonction calcule l'entrope des tuples qui sont déja pretes\n",
    "    if s[0]!=0 and s[1]!=0:\n",
    "        prop1 = s[0]/sum(s)\n",
    "        prop2 = s[1]/sum(s)\n",
    "        ent =  -prop1*(log2(prop1))-prop2*(log2(prop2))\n",
    "    else:\n",
    "        ent = 0\n",
    "    return ent\n",
    "\n",
    "\n",
    "def gain(s,sv):\n",
    "  feature_values = s.values                 #   Acceder aux valeurs de notre variable (Ex : df.Survuved.values)\n",
    "  t = ndarray_to_tuple(feature_values)\n",
    "  Sv = []\n",
    "\n",
    "  for i in range(len(pd.unique(sv))) : \n",
    "    l = pd.unique(sv)\n",
    "    x = clean_data.loc[sv == l[i] ].Survived\n",
    "    feature_values = x.values \n",
    "    t1 = ndarray_to_tuple(feature_values)\n",
    "    Sv.append(t1)\n",
    "\n",
    "  g = entropie(s) \n",
    "  for sub in Sv:\n",
    "    if len(sub) == 2 : \n",
    "      w = (sub[0]+sub[1])/sum(t)\n",
    "      g = g - w*Entropie(sub)\n",
    "  return g"
   ]
  },
  {
   "cell_type": "code",
   "execution_count": 295,
   "metadata": {
    "colab": {
     "base_uri": "https://localhost:8080/"
    },
    "id": "MTtkqppRTJID",
    "outputId": "68784167-1ee5-4f18-d153-46408d633ef2"
   },
   "outputs": [
    {
     "name": "stdout",
     "output_type": "stream",
     "text": [
      "Gain de l'attribut Sex :  0.21766010666061425\n",
      "Gain de l'attribut Pclass :  0.08383104529601162\n",
      "Gain de l'attribut SibSp :  0.0334663213387099\n",
      "Gain de l'attribut Parch :  0.023610547633470844\n",
      "Gain de l'attribut Embarked_Q :  9.595971248679835e-06\n",
      "Gain de l'attribut Embarked_S :  0.015909401384176347\n"
     ]
    }
   ],
   "source": [
    "print(\"Gain de l'attribut Sex : \", gain( s=clean_data.Survived ,  sv=clean_data.Sex_male\t)) #, entropie(clean_data.Survived)\n",
    "print(\"Gain de l'attribut Pclass : \" , gain( s=clean_data.Survived ,  sv=clean_data.Pclass\t))\n",
    "print(\"Gain de l'attribut SibSp : \" , gain( s=clean_data.Survived ,  sv=clean_data.SibSp\t))\n",
    "print(\"Gain de l'attribut Parch : \" , gain( s=clean_data.Survived ,  sv=clean_data.Parch\t))\n",
    "print(\"Gain de l'attribut Embarked_Q : \" , gain( s=clean_data.Survived ,  sv=clean_data.Embarked_Q\t))\n",
    "print(\"Gain de l'attribut Embarked_S : \" , gain( s=clean_data.Survived ,  sv=clean_data.Embarked_S\t))"
   ]
  },
  {
   "cell_type": "markdown",
   "metadata": {
    "id": "FkE_fq0M2C4w"
   },
   "source": [
    "## Familiarisation avec quelques méthodes du package *scikit-learn*+\n",
    "On utilisera les fonctions d'apprentissage bayésien naïf de *scikit-learn* pour prédire la classe de la base *test* créée précédemment lorsque le modèle prédictif est calculé à partir de la base d'apprentissage *train*. Pour cela, vous aurez besoin des fonctions:"
   ]
  },
  {
   "cell_type": "code",
   "execution_count": 296,
   "metadata": {
    "colab": {
     "base_uri": "https://localhost:8080/"
    },
    "id": "sdIkeqRbT6oi",
    "outputId": "2d986c66-32c8-45b0-da30-4ab25b87d451"
   },
   "outputs": [
    {
     "data": {
      "text/plain": [
       "((713, 8), (713,), (178, 8), (178,))"
      ]
     },
     "execution_count": 296,
     "metadata": {},
     "output_type": "execute_result"
    }
   ],
   "source": [
    "X_train = train_data.loc[:, train_data.columns != 'Survived'].values\n",
    "y_train = train_data.Survived.values\n",
    "\n",
    "X_test = test_data.loc[:, test_data.columns != 'Survived'].values\n",
    "y_test = test_data.Survived.values\n",
    "\n",
    "X_train.shape , y_train.shape , X_test.shape , y_test.shape"
   ]
  },
  {
   "cell_type": "code",
   "execution_count": 297,
   "metadata": {
    "id": "_UeY8A072C4x"
   },
   "outputs": [],
   "source": [
    "from sklearn.naive_bayes import GaussianNB\n",
    "clf_gaussian = GaussianNB()\n",
    "clf_gaussian.fit(X_train, y_train)\n",
    "pred_gaussian = clf_gaussian.predict(X_test)  "
   ]
  },
  {
   "cell_type": "code",
   "execution_count": 298,
   "metadata": {
    "id": "bAVqe2Z9HYKw"
   },
   "outputs": [],
   "source": [
    "def prediction(labels,pred) : \n",
    "  taux = (pred == labels)\n",
    "  unique, counts = np.unique(taux, return_counts=True)\n",
    "  d = dict(zip(unique, counts))\n",
    "  return d[True]/len(labels)"
   ]
  },
  {
   "cell_type": "code",
   "execution_count": 299,
   "metadata": {
    "colab": {
     "base_uri": "https://localhost:8080/"
    },
    "id": "QAVg64zvUOSY",
    "outputId": "0ad4157e-84aa-4024-a56a-7c436bc9866a"
   },
   "outputs": [
    {
     "data": {
      "text/plain": [
       "0.7584269662921348"
      ]
     },
     "execution_count": 299,
     "metadata": {},
     "output_type": "execute_result"
    }
   ],
   "source": [
    "prediction(y_test,pred_gaussian) #Taux de prédiction pour l'algorithme Naive_Byaes"
   ]
  },
  {
   "cell_type": "markdown",
   "metadata": {
    "id": "W-13-7zg2C4y"
   },
   "source": [
    "S'aider de l'aide en ligne (http://scikit-learn.org) pour l'utilisation de la méthode.\n",
    "* Quels sont les paramètres de réglage de la méthode ?\n",
    "* Créez une fonction *prediction(labels,pred)* qui renverra le taux de prédiction (en %) pour une prédiction stockée dans *pred* et les valeurs souhaitées stockées dans *labels*. On calculera le taux de prédiction de l'apprentissage bayésien naïf sur la base *test*.\n",
    "* Répétez les questions précédentes avec la méthode des arbres de décision. Pour cela vous aurez besoin des fonctions:"
   ]
  },
  {
   "cell_type": "code",
   "execution_count": 300,
   "metadata": {
    "id": "J0MHcRwM2C4z"
   },
   "outputs": [],
   "source": [
    "from sklearn import tree\n",
    "clf_tree = tree.DecisionTreeClassifier()\n",
    "clf_tree.fit(X_train, y_train)\n",
    "pred_tree = clf_tree.predict(X_test) "
   ]
  },
  {
   "cell_type": "code",
   "execution_count": 301,
   "metadata": {
    "colab": {
     "base_uri": "https://localhost:8080/"
    },
    "id": "VTUbUjmE2C40",
    "outputId": "387e3085-6111-4f2a-b355-c74d151e180f"
   },
   "outputs": [
    {
     "data": {
      "text/plain": [
       "0.7865168539325843"
      ]
     },
     "execution_count": 301,
     "metadata": {},
     "output_type": "execute_result"
    }
   ],
   "source": [
    "prediction(y_test,pred_tree) "
   ]
  },
  {
   "cell_type": "markdown",
   "metadata": {
    "id": "sjTlmRmF2C40"
   },
   "source": [
    "* Mêmes questions ensuite avec la méthode des *k* plus proches voisins et la regression logistique. Voir l'aide en ligne pour un descriptif de l'utilisation des méthodes. A chaque fois, précisez bien quels sont les paramètres de la méthode.\n"
   ]
  },
  {
   "cell_type": "markdown",
   "metadata": {
    "id": "sSdH8n_MINzL"
   },
   "source": [
    "#***K plus proches voisins*** : "
   ]
  },
  {
   "cell_type": "code",
   "execution_count": 302,
   "metadata": {
    "id": "spZdhMS82C40"
   },
   "outputs": [],
   "source": [
    "from sklearn.neighbors import KNeighborsClassifier\n",
    "clf_knn = KNeighborsClassifier()\n",
    "clf_knn.fit(X_train, y_train)\n",
    "pred_knn = clf_knn.predict(X_test)"
   ]
  },
  {
   "cell_type": "code",
   "execution_count": 303,
   "metadata": {
    "colab": {
     "base_uri": "https://localhost:8080/"
    },
    "id": "zoRyTgamUqMM",
    "outputId": "d79bd155-5abd-4993-8161-a9fa1a46ab24"
   },
   "outputs": [
    {
     "data": {
      "text/plain": [
       "0.702247191011236"
      ]
     },
     "execution_count": 303,
     "metadata": {},
     "output_type": "execute_result"
    }
   ],
   "source": [
    "prediction(y_test,pred_knn)"
   ]
  },
  {
   "cell_type": "markdown",
   "metadata": {
    "id": "RoH_9INJUuJq"
   },
   "source": [
    "# Logostic Regression :"
   ]
  },
  {
   "cell_type": "code",
   "execution_count": 304,
   "metadata": {
    "colab": {
     "base_uri": "https://localhost:8080/"
    },
    "id": "lfm9082VUtqR",
    "outputId": "e5405a81-7061-4a37-aa8c-d9a3078c5f7e"
   },
   "outputs": [
    {
     "name": "stderr",
     "output_type": "stream",
     "text": [
      "/usr/local/lib/python3.7/dist-packages/sklearn/linear_model/_logistic.py:818: ConvergenceWarning: lbfgs failed to converge (status=1):\n",
      "STOP: TOTAL NO. of ITERATIONS REACHED LIMIT.\n",
      "\n",
      "Increase the number of iterations (max_iter) or scale the data as shown in:\n",
      "    https://scikit-learn.org/stable/modules/preprocessing.html\n",
      "Please also refer to the documentation for alternative solver options:\n",
      "    https://scikit-learn.org/stable/modules/linear_model.html#logistic-regression\n",
      "  extra_warning_msg=_LOGISTIC_SOLVER_CONVERGENCE_MSG,\n"
     ]
    }
   ],
   "source": [
    "from sklearn.linear_model import LogisticRegression\n",
    "clf_lr = LogisticRegression()\n",
    "clf_lr.fit(X_train, y_train)\n",
    "pred_lr = clf_lr.predict(X_test) "
   ]
  },
  {
   "cell_type": "code",
   "execution_count": 305,
   "metadata": {
    "colab": {
     "base_uri": "https://localhost:8080/"
    },
    "id": "Bw6qIEd6U1lJ",
    "outputId": "9d9d5355-a5c8-49d0-ad17-a2a20dd0d220"
   },
   "outputs": [
    {
     "data": {
      "text/plain": [
       "0.7808988764044944"
      ]
     },
     "execution_count": 305,
     "metadata": {},
     "output_type": "execute_result"
    }
   ],
   "source": [
    "prediction(y_test,pred_lr)"
   ]
  },
  {
   "cell_type": "markdown",
   "metadata": {
    "id": "xl2OMDQf2C40"
   },
   "source": [
    "# Recherche des paramètres optimaux\n",
    "\n",
    "> Bloc en retrait\n",
    "\n",
    "\n",
    "Pour chacune des méthodes, utilisez la fonction *split* pour séparer la base en deux DataFrames de taille équivalente (*train* et *test*). Recherchez ensuite les paramètres optimaux qui vous donneront le meilleur taux de prédiction sur *test* lorsque le modèle apprend les données de *train*. Pour cela, utilisez une grille de valeurs pour les paramètres et pour chaque valeur de la grille, calculez le taux de prédiction sur *test* lorsque vous apprenez *train*. Retenez les valeurs de paramètres donnant le meilleur taux. Les bornes de valeurs et le pas de la grille sont à déterminer de façon empirique."
   ]
  },
  {
   "cell_type": "code",
   "execution_count": 306,
   "metadata": {
    "colab": {
     "base_uri": "https://localhost:8080/"
    },
    "id": "K2-N9aFIU_b_",
    "outputId": "da83ff2a-38ca-4fb0-c0b3-1885ffac825b"
   },
   "outputs": [
    {
     "name": "stdout",
     "output_type": "stream",
     "text": [
      "Requirement already satisfied: pipelinehelper in /usr/local/lib/python3.7/dist-packages (0.7.8)\n",
      "Requirement already satisfied: sklearn in /usr/local/lib/python3.7/dist-packages (from pipelinehelper) (0.0)\n",
      "Requirement already satisfied: scikit-learn in /usr/local/lib/python3.7/dist-packages (from sklearn->pipelinehelper) (1.0.2)\n",
      "Requirement already satisfied: threadpoolctl>=2.0.0 in /usr/local/lib/python3.7/dist-packages (from scikit-learn->sklearn->pipelinehelper) (3.1.0)\n",
      "Requirement already satisfied: numpy>=1.14.6 in /usr/local/lib/python3.7/dist-packages (from scikit-learn->sklearn->pipelinehelper) (1.21.6)\n",
      "Requirement already satisfied: scipy>=1.1.0 in /usr/local/lib/python3.7/dist-packages (from scikit-learn->sklearn->pipelinehelper) (1.4.1)\n",
      "Requirement already satisfied: joblib>=0.11 in /usr/local/lib/python3.7/dist-packages (from scikit-learn->sklearn->pipelinehelper) (1.1.0)\n"
     ]
    }
   ],
   "source": [
    "!pip install pipelinehelper #Pour créer des Pipeline \n",
    "from pipelinehelper import PipelineHelper\n",
    "from sklearn.pipeline import Pipeline\n",
    "from sklearn.model_selection import GridSearchCV"
   ]
  },
  {
   "cell_type": "code",
   "execution_count": 307,
   "metadata": {
    "colab": {
     "base_uri": "https://localhost:8080/"
    },
    "id": "LBrWtcFp2C41",
    "outputId": "08621a50-53c4-4368-bb62-c5bd636a76ce"
   },
   "outputs": [
    {
     "name": "stdout",
     "output_type": "stream",
     "text": [
      "Fitting 5 folds for each of 116 candidates, totalling 580 fits\n"
     ]
    },
    {
     "name": "stderr",
     "output_type": "stream",
     "text": [
      "/usr/local/lib/python3.7/dist-packages/sklearn/model_selection/_validation.py:372: FitFailedWarning: \n",
      "60 fits failed out of a total of 580.\n",
      "The score on these train-test partitions for these parameters will be set to nan.\n",
      "If these failures are not expected, you can try to debug them by setting error_score='raise'.\n",
      "\n",
      "Below are more details about the failures:\n",
      "--------------------------------------------------------------------------------\n",
      "15 fits failed with the following error:\n",
      "Traceback (most recent call last):\n",
      "  File \"/usr/local/lib/python3.7/dist-packages/sklearn/model_selection/_validation.py\", line 680, in _fit_and_score\n",
      "    estimator.fit(X_train, y_train, **fit_params)\n",
      "  File \"/usr/local/lib/python3.7/dist-packages/sklearn/pipeline.py\", line 394, in fit\n",
      "    self._final_estimator.fit(Xt, y, **fit_params_last_step)\n",
      "  File \"/usr/local/lib/python3.7/dist-packages/pipelinehelper/__init__.py\", line 159, in fit\n",
      "    return self.selected_model.fit(x, y, **kwargs)\n",
      "  File \"/usr/local/lib/python3.7/dist-packages/sklearn/linear_model/_logistic.py\", line 1461, in fit\n",
      "    solver = _check_solver(self.solver, self.penalty, self.dual)\n",
      "  File \"/usr/local/lib/python3.7/dist-packages/sklearn/linear_model/_logistic.py\", line 449, in _check_solver\n",
      "    % (solver, penalty)\n",
      "ValueError: Solver lbfgs supports only 'l2' or 'none' penalties, got l1 penalty.\n",
      "\n",
      "--------------------------------------------------------------------------------\n",
      "15 fits failed with the following error:\n",
      "Traceback (most recent call last):\n",
      "  File \"/usr/local/lib/python3.7/dist-packages/sklearn/model_selection/_validation.py\", line 680, in _fit_and_score\n",
      "    estimator.fit(X_train, y_train, **fit_params)\n",
      "  File \"/usr/local/lib/python3.7/dist-packages/sklearn/pipeline.py\", line 394, in fit\n",
      "    self._final_estimator.fit(Xt, y, **fit_params_last_step)\n",
      "  File \"/usr/local/lib/python3.7/dist-packages/pipelinehelper/__init__.py\", line 159, in fit\n",
      "    return self.selected_model.fit(x, y, **kwargs)\n",
      "  File \"/usr/local/lib/python3.7/dist-packages/sklearn/linear_model/_logistic.py\", line 1461, in fit\n",
      "    solver = _check_solver(self.solver, self.penalty, self.dual)\n",
      "  File \"/usr/local/lib/python3.7/dist-packages/sklearn/linear_model/_logistic.py\", line 459, in _check_solver\n",
      "    solver\n",
      "ValueError: Only 'saga' solver supports elasticnet penalty, got solver=liblinear.\n",
      "\n",
      "--------------------------------------------------------------------------------\n",
      "15 fits failed with the following error:\n",
      "Traceback (most recent call last):\n",
      "  File \"/usr/local/lib/python3.7/dist-packages/sklearn/model_selection/_validation.py\", line 680, in _fit_and_score\n",
      "    estimator.fit(X_train, y_train, **fit_params)\n",
      "  File \"/usr/local/lib/python3.7/dist-packages/sklearn/pipeline.py\", line 394, in fit\n",
      "    self._final_estimator.fit(Xt, y, **fit_params_last_step)\n",
      "  File \"/usr/local/lib/python3.7/dist-packages/pipelinehelper/__init__.py\", line 159, in fit\n",
      "    return self.selected_model.fit(x, y, **kwargs)\n",
      "  File \"/usr/local/lib/python3.7/dist-packages/sklearn/linear_model/_logistic.py\", line 1473, in fit\n",
      "    % self.l1_ratio\n",
      "ValueError: l1_ratio must be between 0 and 1; got (l1_ratio=None)\n",
      "\n",
      "--------------------------------------------------------------------------------\n",
      "15 fits failed with the following error:\n",
      "Traceback (most recent call last):\n",
      "  File \"/usr/local/lib/python3.7/dist-packages/sklearn/model_selection/_validation.py\", line 680, in _fit_and_score\n",
      "    estimator.fit(X_train, y_train, **fit_params)\n",
      "  File \"/usr/local/lib/python3.7/dist-packages/sklearn/pipeline.py\", line 394, in fit\n",
      "    self._final_estimator.fit(Xt, y, **fit_params_last_step)\n",
      "  File \"/usr/local/lib/python3.7/dist-packages/pipelinehelper/__init__.py\", line 159, in fit\n",
      "    return self.selected_model.fit(x, y, **kwargs)\n",
      "  File \"/usr/local/lib/python3.7/dist-packages/sklearn/linear_model/_logistic.py\", line 1461, in fit\n",
      "    solver = _check_solver(self.solver, self.penalty, self.dual)\n",
      "  File \"/usr/local/lib/python3.7/dist-packages/sklearn/linear_model/_logistic.py\", line 449, in _check_solver\n",
      "    % (solver, penalty)\n",
      "ValueError: Solver lbfgs supports only 'l2' or 'none' penalties, got elasticnet penalty.\n",
      "\n",
      "  warnings.warn(some_fits_failed_message, FitFailedWarning)\n",
      "/usr/local/lib/python3.7/dist-packages/sklearn/model_selection/_search.py:972: UserWarning: One or more of the test scores are non-finite: [0.82595557 0.82595557 0.82595557 0.84751808 0.84751808        nan\n",
      " 0.84751808 0.84751808 0.84751808        nan        nan        nan\n",
      " 0.84747601 0.84747601        nan 0.84747629 0.84747629 0.84747629\n",
      "        nan        nan        nan 0.84785684 0.84781653        nan\n",
      " 0.84726506 0.84726506 0.84726506        nan        nan        nan\n",
      " 0.80709126 0.80709126 0.80709126 0.81989914 0.79717424 0.84682724\n",
      " 0.84254655 0.84339484 0.82832468 0.81155583 0.85013679 0.84295444\n",
      " 0.84709933 0.83526273 0.81155583 0.82455723 0.83810134 0.85007562\n",
      " 0.83500482 0.81155583 0.82970301 0.83658368 0.84998979 0.83526273\n",
      " 0.81155583 0.80571194 0.80571194 0.81273165 0.81851983 0.79579493\n",
      " 0.84357153 0.83695497 0.83663179 0.82834558 0.81036461 0.83283322\n",
      " 0.8383124  0.84117568 0.83340275 0.81036461 0.82513611 0.84044681\n",
      " 0.84177533 0.83340275 0.81036461 0.82688838 0.83501065 0.84165218\n",
      " 0.83340275 0.81036461 0.84801259 0.83546683 0.84999053 0.83796879\n",
      " 0.85185475 0.83911554 0.85436263 0.83865777 0.85313683 0.83899524\n",
      " 0.85052525 0.83785972 0.84801259 0.83546683 0.84999053 0.83796879\n",
      " 0.85185475 0.83911554 0.85436263 0.83865777 0.85313683 0.83899524\n",
      " 0.85052525 0.83785972 0.8489377  0.83469066 0.84864712 0.83591842\n",
      " 0.84897006 0.83954766 0.85140676 0.8385528  0.85605253 0.84066441\n",
      " 0.85512241 0.83979325]\n",
      "  category=UserWarning,\n"
     ]
    },
    {
     "data": {
      "text/plain": [
       "GridSearchCV(estimator=Pipeline(steps=[('scaler',\n",
       "                                        PipelineHelper(available_models={'std': StandardScaler()})),\n",
       "                                       ('classifier',\n",
       "                                        PipelineHelper(available_models={'dt': DecisionTreeClassifier(),\n",
       "                                                                         'g': GaussianNB(),\n",
       "                                                                         'knn': KNeighborsClassifier(),\n",
       "                                                                         'lg': LogisticRegression()}))]),\n",
       "             param_grid={'classifier__selected_model': [('g',\n",
       "                                                         {'priors': None,\n",
       "                                                          'var_smoothing': 1e-08}),\n",
       "                                                        ('...\n",
       "                                                          'solver': 'lbfgs'}),\n",
       "                                                        ('lg',\n",
       "                                                         {'C': 1.0,\n",
       "                                                          'class_weight': 'balanced',\n",
       "                                                          'penalty': 'elasticnet',\n",
       "                                                          'solver': 'liblinear'}),\n",
       "                                                        ('lg',\n",
       "                                                         {'C': 1.0,\n",
       "                                                          'class_weight': 'balanced',\n",
       "                                                          'penalty': 'elasticnet',\n",
       "                                                          'solver': 'saga'}),\n",
       "                                                        ('lg',\n",
       "                                                         {'C': 1.0,\n",
       "                                                          'class_weight': 'balanced',\n",
       "                                                          'penalty': 'elasticnet',\n",
       "                                                          'solver': 'lbfgs'}), ...],\n",
       "                         'scaler__selected_model': [('std',\n",
       "                                                     {'with_mean': True})]},\n",
       "             scoring='roc_auc', verbose=1)"
      ]
     },
     "execution_count": 307,
     "metadata": {},
     "output_type": "execute_result"
    }
   ],
   "source": [
    "pipe = Pipeline([\n",
    "    ('scaler', PipelineHelper([\n",
    "        ('std', StandardScaler())\n",
    "    ])),\n",
    "\n",
    "    ('classifier', PipelineHelper([\n",
    "          ('g',GaussianNB()),\n",
    "         ('lg',LogisticRegression()),\n",
    "         ('dt' , tree.DecisionTreeClassifier()),\n",
    "         ('knn', KNeighborsClassifier())\n",
    "         \n",
    "       \n",
    "        \n",
    "       \n",
    "        \n",
    "    ])),\n",
    "])\n",
    "\n",
    "params = {\n",
    "    'scaler__selected_model': pipe.named_steps['scaler'].generate({\n",
    "        'std__with_mean': [True,]\n",
    "#         \n",
    "    }),\n",
    "    'classifier__selected_model': pipe.named_steps['classifier'].generate({\n",
    "        \n",
    "        'g__priors': [None],\n",
    "        'g__var_smoothing': [0.00000001, 0.000000001, 0.00000001],\n",
    "\n",
    "        'lg__class_weight' :['balanced' ], \n",
    "         'lg__penalty' :['l1', 'l2', 'elasticnet'],\n",
    "         'lg__solver' : ['liblinear', 'saga','lbfgs'],\n",
    "          'lg__C' : [ 100 ,10, 1.0],\n",
    "\n",
    "          'dt__max_depth': [2, 3, 5, 10, 20],\n",
    "         'dt__min_samples_leaf': [5, 10, 20, 50, 100],\n",
    "        'dt__criterion': [\"gini\", \"entropy\"],\n",
    "\n",
    "        'knn__n_neighbors' : [5,7,9,11,13,15],\n",
    "        'knn__weights' : ['uniform','distance'],\n",
    "        'knn__metric' : ['minkowski','euclidean','manhattan']\n",
    "        \n",
    "   })\n",
    "}\n",
    "\n",
    "grid = GridSearchCV(pipe, params, scoring='roc_auc', verbose=1)\n",
    "grid.fit(X_train, y_train)"
   ]
  },
  {
   "cell_type": "code",
   "execution_count": 308,
   "metadata": {
    "colab": {
     "base_uri": "https://localhost:8080/"
    },
    "id": "2AV9pbvxJG2a",
    "outputId": "99057872-ae57-4440-8c37-fa849fbef420"
   },
   "outputs": [
    {
     "name": "stdout",
     "output_type": "stream",
     "text": [
      "Meilleure score : 0.856053 using {'classifier__selected_model': ('knn', {'metric': 'manhattan', 'n_neighbors': 13, 'weights': 'uniform'}), 'scaler__selected_model': ('std', {'with_mean': True})}\n"
     ]
    }
   ],
   "source": [
    "print(\"Meilleure score : %f using %s\" % (grid.best_score_, grid.best_params_))"
   ]
  },
  {
   "cell_type": "markdown",
   "metadata": {
    "id": "H3DyycHydnxu"
   },
   "source": [
    "#Best Parametres :"
   ]
  },
  {
   "cell_type": "code",
   "execution_count": 309,
   "metadata": {
    "id": "pNv95ZQ7bK9L"
   },
   "outputs": [],
   "source": [
    "clf_gaussian_best_param = GaussianNB(priors = None, var_smoothing=  1e-08)\n",
    "clf_tree_best_param = tree.DecisionTreeClassifier(criterion= 'gini', max_depth= 20, min_samples_leaf= 20)\n",
    "clf_knn_best_param =  KNeighborsClassifier(metric = 'manhattan', n_neighbors= 13, weights= 'uniform')\n",
    "clf_lr_best_param = LogisticRegression(C= 1.0, class_weight='balanced', penalty= 'l1', solver= 'liblinear')"
   ]
  },
  {
   "cell_type": "markdown",
   "metadata": {
    "id": "Ayn3P_WsJLu3"
   },
   "source": [
    "# **Print The best score for each model** : "
   ]
  },
  {
   "cell_type": "code",
   "execution_count": 310,
   "metadata": {
    "colab": {
     "base_uri": "https://localhost:8080/",
     "height": 174
    },
    "id": "GaUkFOiTJJ_E",
    "outputId": "8263b179-7d3a-44af-e9dc-54674db7f81f"
   },
   "outputs": [
    {
     "data": {
      "text/html": [
       "\n",
       "  <div id=\"df-820da9d6-7f25-450a-b4c0-d86c8bafa7a0\">\n",
       "    <div class=\"colab-df-container\">\n",
       "      <div>\n",
       "<style scoped>\n",
       "    .dataframe tbody tr th:only-of-type {\n",
       "        vertical-align: middle;\n",
       "    }\n",
       "\n",
       "    .dataframe tbody tr th {\n",
       "        vertical-align: top;\n",
       "    }\n",
       "\n",
       "    .dataframe thead th {\n",
       "        text-align: right;\n",
       "    }\n",
       "</style>\n",
       "<table border=\"1\" class=\"dataframe\">\n",
       "  <thead>\n",
       "    <tr style=\"text-align: right;\">\n",
       "      <th></th>\n",
       "      <th>params</th>\n",
       "      <th>mean_score_time</th>\n",
       "      <th>std_score_time</th>\n",
       "      <th>mean_test_score</th>\n",
       "      <th>modele</th>\n",
       "    </tr>\n",
       "  </thead>\n",
       "  <tbody>\n",
       "    <tr>\n",
       "      <th>112</th>\n",
       "      <td>{'classifier__selected_model': ('knn', {'metri...</td>\n",
       "      <td>0.005792</td>\n",
       "      <td>0.000087</td>\n",
       "      <td>0.856053</td>\n",
       "      <td>knn</td>\n",
       "    </tr>\n",
       "    <tr>\n",
       "      <th>40</th>\n",
       "      <td>{'classifier__selected_model': ('dt', {'criter...</td>\n",
       "      <td>0.001470</td>\n",
       "      <td>0.000102</td>\n",
       "      <td>0.850137</td>\n",
       "      <td>dt</td>\n",
       "    </tr>\n",
       "    <tr>\n",
       "      <th>21</th>\n",
       "      <td>{'classifier__selected_model': ('lg', {'C': 1....</td>\n",
       "      <td>0.002274</td>\n",
       "      <td>0.000570</td>\n",
       "      <td>0.847857</td>\n",
       "      <td>lg</td>\n",
       "    </tr>\n",
       "    <tr>\n",
       "      <th>0</th>\n",
       "      <td>{'classifier__selected_model': ('g', {'priors'...</td>\n",
       "      <td>0.001899</td>\n",
       "      <td>0.000281</td>\n",
       "      <td>0.825956</td>\n",
       "      <td>g</td>\n",
       "    </tr>\n",
       "  </tbody>\n",
       "</table>\n",
       "</div>\n",
       "      <button class=\"colab-df-convert\" onclick=\"convertToInteractive('df-820da9d6-7f25-450a-b4c0-d86c8bafa7a0')\"\n",
       "              title=\"Convert this dataframe to an interactive table.\"\n",
       "              style=\"display:none;\">\n",
       "        \n",
       "  <svg xmlns=\"http://www.w3.org/2000/svg\" height=\"24px\"viewBox=\"0 0 24 24\"\n",
       "       width=\"24px\">\n",
       "    <path d=\"M0 0h24v24H0V0z\" fill=\"none\"/>\n",
       "    <path d=\"M18.56 5.44l.94 2.06.94-2.06 2.06-.94-2.06-.94-.94-2.06-.94 2.06-2.06.94zm-11 1L8.5 8.5l.94-2.06 2.06-.94-2.06-.94L8.5 2.5l-.94 2.06-2.06.94zm10 10l.94 2.06.94-2.06 2.06-.94-2.06-.94-.94-2.06-.94 2.06-2.06.94z\"/><path d=\"M17.41 7.96l-1.37-1.37c-.4-.4-.92-.59-1.43-.59-.52 0-1.04.2-1.43.59L10.3 9.45l-7.72 7.72c-.78.78-.78 2.05 0 2.83L4 21.41c.39.39.9.59 1.41.59.51 0 1.02-.2 1.41-.59l7.78-7.78 2.81-2.81c.8-.78.8-2.07 0-2.86zM5.41 20L4 18.59l7.72-7.72 1.47 1.35L5.41 20z\"/>\n",
       "  </svg>\n",
       "      </button>\n",
       "      \n",
       "  <style>\n",
       "    .colab-df-container {\n",
       "      display:flex;\n",
       "      flex-wrap:wrap;\n",
       "      gap: 12px;\n",
       "    }\n",
       "\n",
       "    .colab-df-convert {\n",
       "      background-color: #E8F0FE;\n",
       "      border: none;\n",
       "      border-radius: 50%;\n",
       "      cursor: pointer;\n",
       "      display: none;\n",
       "      fill: #1967D2;\n",
       "      height: 32px;\n",
       "      padding: 0 0 0 0;\n",
       "      width: 32px;\n",
       "    }\n",
       "\n",
       "    .colab-df-convert:hover {\n",
       "      background-color: #E2EBFA;\n",
       "      box-shadow: 0px 1px 2px rgba(60, 64, 67, 0.3), 0px 1px 3px 1px rgba(60, 64, 67, 0.15);\n",
       "      fill: #174EA6;\n",
       "    }\n",
       "\n",
       "    [theme=dark] .colab-df-convert {\n",
       "      background-color: #3B4455;\n",
       "      fill: #D2E3FC;\n",
       "    }\n",
       "\n",
       "    [theme=dark] .colab-df-convert:hover {\n",
       "      background-color: #434B5C;\n",
       "      box-shadow: 0px 1px 3px 1px rgba(0, 0, 0, 0.15);\n",
       "      filter: drop-shadow(0px 1px 2px rgba(0, 0, 0, 0.3));\n",
       "      fill: #FFFFFF;\n",
       "    }\n",
       "  </style>\n",
       "\n",
       "      <script>\n",
       "        const buttonEl =\n",
       "          document.querySelector('#df-820da9d6-7f25-450a-b4c0-d86c8bafa7a0 button.colab-df-convert');\n",
       "        buttonEl.style.display =\n",
       "          google.colab.kernel.accessAllowed ? 'block' : 'none';\n",
       "\n",
       "        async function convertToInteractive(key) {\n",
       "          const element = document.querySelector('#df-820da9d6-7f25-450a-b4c0-d86c8bafa7a0');\n",
       "          const dataTable =\n",
       "            await google.colab.kernel.invokeFunction('convertToInteractive',\n",
       "                                                     [key], {});\n",
       "          if (!dataTable) return;\n",
       "\n",
       "          const docLinkHtml = 'Like what you see? Visit the ' +\n",
       "            '<a target=\"_blank\" href=https://colab.research.google.com/notebooks/data_table.ipynb>data table notebook</a>'\n",
       "            + ' to learn more about interactive tables.';\n",
       "          element.innerHTML = '';\n",
       "          dataTable['output_type'] = 'display_data';\n",
       "          await google.colab.output.renderOutput(dataTable, element);\n",
       "          const docLink = document.createElement('div');\n",
       "          docLink.innerHTML = docLinkHtml;\n",
       "          element.appendChild(docLink);\n",
       "        }\n",
       "      </script>\n",
       "    </div>\n",
       "  </div>\n",
       "  "
      ],
      "text/plain": [
       "                                                params  mean_score_time  std_score_time  mean_test_score modele\n",
       "112  {'classifier__selected_model': ('knn', {'metri...         0.005792        0.000087         0.856053    knn\n",
       "40   {'classifier__selected_model': ('dt', {'criter...         0.001470        0.000102         0.850137     dt\n",
       "21   {'classifier__selected_model': ('lg', {'C': 1....         0.002274        0.000570         0.847857     lg\n",
       "0    {'classifier__selected_model': ('g', {'priors'...         0.001899        0.000281         0.825956      g"
      ]
     },
     "execution_count": 310,
     "metadata": {},
     "output_type": "execute_result"
    }
   ],
   "source": [
    "cv_results = pd.DataFrame.from_dict(grid.cv_results_)\n",
    "df_hyperparameter = cv_results[['params', 'mean_score_time', 'std_score_time', 'mean_test_score']]  #RAJOUTER LES AUTRES SCORES POSSIBLES !!\n",
    "\n",
    "pd.set_option(\"display.max_rows\", None, \"display.max_columns\", None)\n",
    "pd.set_option('expand_frame_repr', False)\n",
    "d = df_hyperparameter.dropna().sort_values('mean_test_score',ascending = False)\n",
    "d['modele'] = [ i['classifier__selected_model'][0] for i in d['params']]\n",
    "d.drop_duplicates('modele',keep='first')"
   ]
  },
  {
   "cell_type": "markdown",
   "metadata": {
    "id": "zEdvJErr2C41"
   },
   "source": [
    "## Comparaison des méthodes par validation croisée\n",
    "Pour chacune des méthodes et en utilisant les paramètres optimaux déterminés précédemment, réalisez une procédure de validation croisée pour calculer le taux de prédiction moyen et sa variance lorsque le nombre de folds est 5. Pour cela, vous aurez besoin de la fonction suivante :"
   ]
  },
  {
   "cell_type": "code",
   "execution_count": 311,
   "metadata": {
    "id": "wBEuzw_f2C42"
   },
   "outputs": [],
   "source": [
    "from sklearn.model_selection import cross_val_score\n",
    "scores_gaussian = cross_val_score(clf_gaussian_best_param, X_train, y_train, cv=5)\n",
    "scores_tree = cross_val_score(clf_tree_best_param, X_train, y_train, cv=5)\n",
    "scores_knn = cross_val_score(clf_knn_best_param, X_train, y_train, cv=5)\n",
    "scores_lr = cross_val_score(clf_lr_best_param , X_train, y_train, cv=5)\n",
    "\n",
    "# clf_gaussian_best_param = GaussianNB(priors = None, var_smoothing=  1e-08)\n",
    "# clf_tree_best_param = tree.DecisionTreeClassifier(criterion= 'gini', max_depth= 20, min_samples_leaf= 20)\n",
    "# clf_knn_best_param =  KNeighborsClassifier(metric = 'manhattan', n_neighbors= 13, weights= 'uniform')\n",
    "# clf_lr_best_param = LogisticRegression(C= 1.0, class_weight='balanced', penalty= 'l1', solver= 'liblinear')"
   ]
  },
  {
   "cell_type": "markdown",
   "metadata": {
    "id": "gyX_SJbF2C42"
   },
   "source": [
    "Elle vous donnera les taux de prédiction pour chacun des folds de tests (voir procédure de validation croisée et l'aide en ligne http://scikit-learn.org)."
   ]
  },
  {
   "cell_type": "markdown",
   "metadata": {
    "id": "hCAcyX2x2C43"
   },
   "source": [
    "## Affichage des résultats\n",
    "On souhaite présenter graphiquement le résultat de la validation croisée ainsi que la comparaison des performances des méthodes. Pour cela on utilisera l'environnement *pyplot* de *matplotlib* :\n",
    "* Pour chacune des 4 méthodes utilisées, affichez un *subplot* qui représentera un diagramme en barres des 5 taux de prédiction correspondants à chacun des folds de la validation croisée (vous pouvez utiliser les paramètres optimaux trouvés précédemment pour cela). Les 4 subplots seront affichés de manière à obtenir 2 niveaux de 2 subplots. Pour cela, vous aurez besoin des 2 fonctions suivantes:"
   ]
  },
  {
   "cell_type": "code",
   "execution_count": 312,
   "metadata": {
    "colab": {
     "base_uri": "https://localhost:8080/",
     "height": 608
    },
    "id": "aP0acMul2C43",
    "outputId": "a962e9dd-7893-477e-af4f-53bab5a7c3dc"
   },
   "outputs": [
    {
     "data": {
      "image/png": "[encoded data removed]",
      "text/plain": [
       "<Figure size 1008x720 with 4 Axes>"
      ]
     },
     "metadata": {
      "needs_background": "light"
     },
     "output_type": "display_data"
    }
   ],
   "source": [
    "from matplotlib.pyplot import *\n",
    "\n",
    "fig = plt.figure(figsize = (14, 10))\n",
    "scores = [scores_gaussian , scores_tree , scores_knn, scores_lr]\n",
    "Model = [\"Gaussian\" , \"Decesion_Tree\" , \"Knn\" ,  \"Logistic_Regression\"]\n",
    "for i in range(len(scores)) : \n",
    "  plt.subplot(2,2, i+1)\n",
    "  data = {'Fold_1':scores[i][0], 'Fold_2':scores[i][1] , 'Fold_3':scores[i][2] , 'Fold_4':scores[i][3] ,  'Fold_5':scores[i][4]}\n",
    "  courses = list(data.keys())\n",
    "  values = list(data.values())\n",
    "  \n",
    " \n",
    "  #  creating the bar plot\n",
    "  plt.title(Model[i])\n",
    "  plt.bar(courses, values, color ='maroon',width = 0.4)"
   ]
  },
  {
   "cell_type": "markdown",
   "metadata": {
    "id": "kz1DgKXC2C44"
   },
   "source": [
    "* Affichez ensuite un diagramme de 4 barres correspondant aux 4 méthodes où chaque barre représente le taux moyen de prédiction issu de la validation croisée pour une méthode (toujours avec les paramètres optimaux). Comparez."
   ]
  },
  {
   "cell_type": "code",
   "execution_count": 313,
   "metadata": {
    "colab": {
     "base_uri": "https://localhost:8080/",
     "height": 500
    },
    "id": "HhXceOLR2C44",
    "outputId": "adf7402b-53d1-4379-f90a-021201f0d607"
   },
   "outputs": [
    {
     "data": {
      "image/png": "[encoded data removed]",
      "text/plain": [
       "<Figure size 864x576 with 1 Axes>"
      ]
     },
     "metadata": {
      "needs_background": "light"
     },
     "output_type": "display_data"
    }
   ],
   "source": [
    "fig = plt.figure(figsize = (12, 8))\n",
    "scores = [mean(scores_gaussian) , mean(scores_tree) , mean(scores_knn), mean(scores_lr)]\n",
    "Model = [\"Gaussian\" , \"Decesion_Tree\" , \"Knn\" ,  \"Logistic_Regression\"]\n",
    "for i in range(len(scores)) : \n",
    "  # plt.subplot(2,2, i+1)\n",
    "  data = {Model[0] :scores[0], Model[1]:scores[1] , Model[2]:scores[2] , Model[3]:scores[3] }\n",
    "  courses = list(data.keys())\n",
    "  values = list(data.values())\n",
    "  \n",
    " \n",
    "  #  creating the bar plot\n",
    "  plt.title('Comparaison')\n",
    "  plt.bar(courses, values, color ='maroon',width = 0.4)"
   ]
  },
  {
   "cell_type": "markdown",
   "metadata": {
    "id": "1lIwJWx52C44"
   },
   "source": [
    "## Bonus\n",
    "Vous êtes encouragés à :\n",
    "* créer de nouveaux attributs à partir des attributs nominaux que vous n'aurez pas utilisés\n",
    "* tester d'autres algorithme\n",
    "* faire la fonction de calcul de gain pour un attribut numérique. Cette fonction renverra le seuil qui maximise le gain."
   ]
  },
  {
   "cell_type": "markdown",
   "metadata": {
    "id": "ACgSlvRciqnA"
   },
   "source": [
    "# Random Forest Always perform better then the others Models !"
   ]
  },
  {
   "cell_type": "code",
   "execution_count": 314,
   "metadata": {
    "colab": {
     "base_uri": "https://localhost:8080/"
    },
    "id": "iImH5Ejg2C44",
    "outputId": "8b739047-4292-45f5-f9d3-18a64d1fc6f7"
   },
   "outputs": [
    {
     "name": "stdout",
     "output_type": "stream",
     "text": [
      "Mean ROC AUC: 0.860\n"
     ]
    }
   ],
   "source": [
    "from sklearn.ensemble import RandomForestClassifier\n",
    "from sklearn.model_selection import RepeatedStratifiedKFold\n",
    "\n",
    "model_Survived = RandomForestClassifier(n_estimators=200, max_depth=30, random_state=1)\n",
    "model_Survived.fit(X_train, y_train)\n",
    "\n",
    "cv = RepeatedStratifiedKFold(n_splits=15, n_repeats=3, random_state=1)\n",
    "# evaluate model\n",
    "scores_RandomForest = cross_val_score(model_Survived, X_train, y_train, scoring='roc_auc', cv=cv, n_jobs=-1)\n",
    "# summarize performance\n",
    "print('Mean ROC AUC: %.3f' % mean(scores_RandomForest)) "
   ]
  },
  {
   "cell_type": "code",
   "execution_count": 315,
   "metadata": {
    "colab": {
     "base_uri": "https://localhost:8080/",
     "height": 500
    },
    "id": "cW_Y_BJ3iOLM",
    "outputId": "7503eb98-6cb3-4127-8c1f-b42b45d85562"
   },
   "outputs": [
    {
     "data": {
      "image/png": "[encoded data removed]",
      "text/plain": [
       "<Figure size 864x576 with 1 Axes>"
      ]
     },
     "metadata": {
      "needs_background": "light"
     },
     "output_type": "display_data"
    }
   ],
   "source": [
    "fig = plt.figure(figsize = (12, 8))\n",
    "scores = [mean(scores_gaussian) , mean(scores_tree) , mean(scores_knn), mean(scores_lr),mean(scores_RandomForest)]\n",
    "Model = [\"Gaussian\" , \"Decesion_Tree\" , \"Knn\" ,  \"Logistic_Regression\", 'RandomForest']\n",
    "for i in range(len(scores)) : \n",
    "  # plt.subplot(2,2, i+1)\n",
    "  data = {Model[0] :scores[0], Model[1]:scores[1] , Model[2]:scores[2] , Model[3]:scores[3], Model[4]:scores[4] }\n",
    "  courses = list(data.keys())\n",
    "  values = list(data.values())\n",
    "  \n",
    " \n",
    "  #  creating the bar plot\n",
    "  plt.title('Comparaison')\n",
    "  plt.bar(courses, values, color ='maroon',width = 0.4)"
   ]
  },
  {
   "cell_type": "markdown",
   "metadata": {
    "id": "pqg5pes0ixMn"
   },
   "source": [
    "**Resultats** : Random Forest a des bonnes score par rapport aux autres modeles."
   ]
  },
  {
   "cell_type": "markdown",
   "metadata": {
    "id": "nJOZUj-mjiz4"
   },
   "source": [
    "***Deep Learning*** : Deep Learning solve any problem but it's not necessary for this use case"
   ]
  },
  {
   "cell_type": "code",
   "execution_count": 316,
   "metadata": {
    "id": "6cpIQOkRij4Z"
   },
   "outputs": [],
   "source": [
    "import keras"
   ]
  },
  {
   "cell_type": "code",
   "execution_count": 317,
   "metadata": {
    "colab": {
     "base_uri": "https://localhost:8080/"
    },
    "id": "Pb-4G0h5jygE",
    "outputId": "f0d40585-f759-464f-e015-47c213453b20"
   },
   "outputs": [
    {
     "name": "stdout",
     "output_type": "stream",
     "text": [
      "Model: \"sequential_9\"\n",
      "_________________________________________________________________\n",
      " Layer (type)                Output Shape              Param #   \n",
      "=================================================================\n",
      " dense_39 (Dense)            (None, 11)                99        \n",
      "                                                                 \n",
      " dense_40 (Dense)            (None, 11)                132       \n",
      "                                                                 \n",
      " dropout_12 (Dropout)        (None, 11)                0         \n",
      "                                                                 \n",
      " dense_41 (Dense)            (None, 11)                132       \n",
      "                                                                 \n",
      " dropout_13 (Dropout)        (None, 11)                0         \n",
      "                                                                 \n",
      " dense_42 (Dense)            (None, 5)                 60        \n",
      "                                                                 \n",
      " dense_43 (Dense)            (None, 1)                 6         \n",
      "                                                                 \n",
      "=================================================================\n",
      "Total params: 429\n",
      "Trainable params: 429\n",
      "Non-trainable params: 0\n",
      "_________________________________________________________________\n"
     ]
    }
   ],
   "source": [
    "from keras.models import Sequential\n",
    "from keras.layers import Dense,Dropout\n",
    "\n",
    "classifier = Sequential()\n",
    "classifier.add(Dense(activation=\"relu\", input_dim=8, units=11, kernel_initializer=\"uniform\"))\n",
    "classifier.add(Dense(activation=\"relu\", units=11, kernel_initializer=\"uniform\"))\n",
    "classifier.add(Dropout(0.5))\n",
    "classifier.add(Dense(activation=\"relu\", units=11, kernel_initializer=\"uniform\"))\n",
    "classifier.add(Dropout(0.5))\n",
    "classifier.add(Dense(activation=\"relu\", units=5, kernel_initializer=\"uniform\"))\n",
    "classifier.add(Dense(activation=\"sigmoid\", units=1, kernel_initializer=\"uniform\"))\n",
    "classifier.compile(optimizer = 'adam', loss = 'binary_crossentropy', metrics = ['accuracy'])\n",
    "classifier.summary()"
   ]
  },
  {
   "cell_type": "code",
   "execution_count": 318,
   "metadata": {
    "colab": {
     "base_uri": "https://localhost:8080/"
    },
    "id": "j054XZTyj0zo",
    "outputId": "0347fe7c-1926-4dc5-e966-74e409834640"
   },
   "outputs": [
    {
     "name": "stdout",
     "output_type": "stream",
     "text": [
      "Epoch 1/100\n",
      "65/65 [==============================] - 3s 12ms/step - loss: 0.6917 - accuracy: 0.5835 - val_loss: 0.6896 - val_accuracy: 0.6111\n",
      "Epoch 2/100\n",
      "65/65 [==============================] - 0s 5ms/step - loss: 0.6882 - accuracy: 0.6115 - val_loss: 0.6865 - val_accuracy: 0.6111\n",
      "Epoch 3/100\n",
      "65/65 [==============================] - 0s 5ms/step - loss: 0.6841 - accuracy: 0.6209 - val_loss: 0.6799 - val_accuracy: 0.6389\n",
      "Epoch 4/100\n",
      "65/65 [==============================] - 0s 4ms/step - loss: 0.6743 - accuracy: 0.6661 - val_loss: 0.6698 - val_accuracy: 0.6667\n",
      "Epoch 5/100\n",
      "65/65 [==============================] - 0s 6ms/step - loss: 0.6672 - accuracy: 0.6459 - val_loss: 0.6671 - val_accuracy: 0.6528\n",
      "Epoch 6/100\n",
      "65/65 [==============================] - 0s 5ms/step - loss: 0.6625 - accuracy: 0.6568 - val_loss: 0.6624 - val_accuracy: 0.6667\n",
      "Epoch 7/100\n",
      "65/65 [==============================] - 0s 4ms/step - loss: 0.6522 - accuracy: 0.6630 - val_loss: 0.6634 - val_accuracy: 0.6667\n",
      "Epoch 8/100\n",
      "65/65 [==============================] - 0s 5ms/step - loss: 0.6519 - accuracy: 0.6771 - val_loss: 0.6599 - val_accuracy: 0.6528\n",
      "Epoch 9/100\n",
      "65/65 [==============================] - 0s 5ms/step - loss: 0.6556 - accuracy: 0.6630 - val_loss: 0.6555 - val_accuracy: 0.6806\n",
      "Epoch 10/100\n",
      "65/65 [==============================] - 0s 6ms/step - loss: 0.6459 - accuracy: 0.6646 - val_loss: 0.6584 - val_accuracy: 0.6806\n",
      "Epoch 11/100\n",
      "65/65 [==============================] - 0s 5ms/step - loss: 0.6536 - accuracy: 0.6599 - val_loss: 0.6543 - val_accuracy: 0.6806\n",
      "Epoch 12/100\n",
      "65/65 [==============================] - 0s 5ms/step - loss: 0.6392 - accuracy: 0.6802 - val_loss: 0.6587 - val_accuracy: 0.6944\n",
      "Epoch 13/100\n",
      "65/65 [==============================] - 0s 5ms/step - loss: 0.6550 - accuracy: 0.6630 - val_loss: 0.6502 - val_accuracy: 0.6806\n",
      "Epoch 14/100\n",
      "65/65 [==============================] - 0s 7ms/step - loss: 0.6401 - accuracy: 0.6537 - val_loss: 0.6545 - val_accuracy: 0.6944\n",
      "Epoch 15/100\n",
      "65/65 [==============================] - 0s 5ms/step - loss: 0.6475 - accuracy: 0.6771 - val_loss: 0.6512 - val_accuracy: 0.6944\n",
      "Epoch 16/100\n",
      "65/65 [==============================] - 0s 4ms/step - loss: 0.6338 - accuracy: 0.6833 - val_loss: 0.6556 - val_accuracy: 0.6806\n",
      "Epoch 17/100\n",
      "65/65 [==============================] - 0s 5ms/step - loss: 0.6445 - accuracy: 0.6661 - val_loss: 0.6448 - val_accuracy: 0.6806\n",
      "Epoch 18/100\n",
      "65/65 [==============================] - 0s 4ms/step - loss: 0.6405 - accuracy: 0.6630 - val_loss: 0.6415 - val_accuracy: 0.6806\n",
      "Epoch 19/100\n",
      "65/65 [==============================] - 0s 4ms/step - loss: 0.6243 - accuracy: 0.6755 - val_loss: 0.6464 - val_accuracy: 0.6806\n",
      "Epoch 20/100\n",
      "65/65 [==============================] - 0s 4ms/step - loss: 0.6376 - accuracy: 0.6521 - val_loss: 0.6407 - val_accuracy: 0.6944\n",
      "Epoch 21/100\n",
      "65/65 [==============================] - 0s 5ms/step - loss: 0.6333 - accuracy: 0.6755 - val_loss: 0.6380 - val_accuracy: 0.6944\n",
      "Epoch 22/100\n",
      "65/65 [==============================] - 0s 5ms/step - loss: 0.6374 - accuracy: 0.6724 - val_loss: 0.6335 - val_accuracy: 0.6806\n",
      "Epoch 23/100\n",
      "65/65 [==============================] - 0s 4ms/step - loss: 0.6279 - accuracy: 0.6724 - val_loss: 0.6338 - val_accuracy: 0.6806\n",
      "Epoch 24/100\n",
      "65/65 [==============================] - 0s 6ms/step - loss: 0.6241 - accuracy: 0.6786 - val_loss: 0.6322 - val_accuracy: 0.6944\n",
      "Epoch 25/100\n",
      "65/65 [==============================] - 0s 6ms/step - loss: 0.6212 - accuracy: 0.6786 - val_loss: 0.6318 - val_accuracy: 0.6944\n",
      "Epoch 26/100\n",
      "65/65 [==============================] - 0s 3ms/step - loss: 0.6144 - accuracy: 0.6849 - val_loss: 0.6272 - val_accuracy: 0.6944\n",
      "Epoch 27/100\n",
      "65/65 [==============================] - 0s 3ms/step - loss: 0.6275 - accuracy: 0.6661 - val_loss: 0.6219 - val_accuracy: 0.6944\n",
      "Epoch 28/100\n",
      "65/65 [==============================] - 0s 3ms/step - loss: 0.6187 - accuracy: 0.6755 - val_loss: 0.6226 - val_accuracy: 0.6944\n",
      "Epoch 29/100\n",
      "65/65 [==============================] - 0s 3ms/step - loss: 0.6237 - accuracy: 0.6708 - val_loss: 0.6194 - val_accuracy: 0.6944\n",
      "Epoch 30/100\n",
      "65/65 [==============================] - 0s 2ms/step - loss: 0.6060 - accuracy: 0.6817 - val_loss: 0.6181 - val_accuracy: 0.6944\n",
      "Epoch 31/100\n",
      "65/65 [==============================] - 0s 3ms/step - loss: 0.6077 - accuracy: 0.6817 - val_loss: 0.6176 - val_accuracy: 0.6806\n",
      "Epoch 32/100\n",
      "65/65 [==============================] - 0s 3ms/step - loss: 0.6037 - accuracy: 0.6849 - val_loss: 0.6074 - val_accuracy: 0.7083\n",
      "Epoch 33/100\n",
      "65/65 [==============================] - 0s 3ms/step - loss: 0.5918 - accuracy: 0.7145 - val_loss: 0.6117 - val_accuracy: 0.7083\n",
      "Epoch 34/100\n",
      "65/65 [==============================] - 0s 3ms/step - loss: 0.6166 - accuracy: 0.6895 - val_loss: 0.5961 - val_accuracy: 0.6806\n",
      "Epoch 35/100\n",
      "65/65 [==============================] - 0s 2ms/step - loss: 0.6074 - accuracy: 0.7285 - val_loss: 0.6007 - val_accuracy: 0.6806\n",
      "Epoch 36/100\n",
      "65/65 [==============================] - 0s 3ms/step - loss: 0.5914 - accuracy: 0.7114 - val_loss: 0.5943 - val_accuracy: 0.6528\n",
      "Epoch 37/100\n",
      "65/65 [==============================] - 0s 3ms/step - loss: 0.5670 - accuracy: 0.7348 - val_loss: 0.6026 - val_accuracy: 0.7500\n",
      "Epoch 38/100\n",
      "65/65 [==============================] - 0s 3ms/step - loss: 0.5703 - accuracy: 0.7441 - val_loss: 0.5911 - val_accuracy: 0.7500\n",
      "Epoch 39/100\n",
      "65/65 [==============================] - 0s 3ms/step - loss: 0.5727 - accuracy: 0.7410 - val_loss: 0.5913 - val_accuracy: 0.6667\n",
      "Epoch 40/100\n",
      "65/65 [==============================] - 0s 3ms/step - loss: 0.5643 - accuracy: 0.7473 - val_loss: 0.5733 - val_accuracy: 0.7500\n",
      "Epoch 41/100\n",
      "65/65 [==============================] - 0s 3ms/step - loss: 0.5856 - accuracy: 0.7207 - val_loss: 0.5803 - val_accuracy: 0.7639\n",
      "Epoch 42/100\n",
      "65/65 [==============================] - 0s 2ms/step - loss: 0.5755 - accuracy: 0.7441 - val_loss: 0.5674 - val_accuracy: 0.7361\n",
      "Epoch 43/100\n",
      "65/65 [==============================] - 0s 3ms/step - loss: 0.5712 - accuracy: 0.7317 - val_loss: 0.5752 - val_accuracy: 0.7500\n",
      "Epoch 44/100\n",
      "65/65 [==============================] - 0s 2ms/step - loss: 0.5700 - accuracy: 0.7566 - val_loss: 0.5942 - val_accuracy: 0.6667\n",
      "Epoch 45/100\n",
      "65/65 [==============================] - 0s 3ms/step - loss: 0.5794 - accuracy: 0.7239 - val_loss: 0.5776 - val_accuracy: 0.6944\n",
      "Epoch 46/100\n",
      "65/65 [==============================] - 0s 3ms/step - loss: 0.5729 - accuracy: 0.7270 - val_loss: 0.5851 - val_accuracy: 0.6806\n",
      "Epoch 47/100\n",
      "65/65 [==============================] - 0s 3ms/step - loss: 0.5609 - accuracy: 0.7504 - val_loss: 0.5789 - val_accuracy: 0.7083\n",
      "Epoch 48/100\n",
      "65/65 [==============================] - 0s 3ms/step - loss: 0.5758 - accuracy: 0.7738 - val_loss: 0.5875 - val_accuracy: 0.6944\n",
      "Epoch 49/100\n",
      "65/65 [==============================] - 0s 2ms/step - loss: 0.5668 - accuracy: 0.7410 - val_loss: 0.5697 - val_accuracy: 0.7500\n",
      "Epoch 50/100\n",
      "65/65 [==============================] - 0s 3ms/step - loss: 0.5582 - accuracy: 0.7504 - val_loss: 0.5742 - val_accuracy: 0.7083\n",
      "Epoch 51/100\n",
      "65/65 [==============================] - 0s 3ms/step - loss: 0.5460 - accuracy: 0.7520 - val_loss: 0.5693 - val_accuracy: 0.7222\n",
      "Epoch 52/100\n",
      "65/65 [==============================] - 0s 3ms/step - loss: 0.5625 - accuracy: 0.7488 - val_loss: 0.5797 - val_accuracy: 0.7083\n",
      "Epoch 53/100\n",
      "65/65 [==============================] - 0s 3ms/step - loss: 0.5861 - accuracy: 0.7363 - val_loss: 0.5777 - val_accuracy: 0.6944\n",
      "Epoch 54/100\n",
      "65/65 [==============================] - 0s 3ms/step - loss: 0.5533 - accuracy: 0.7488 - val_loss: 0.5762 - val_accuracy: 0.7083\n",
      "Epoch 55/100\n",
      "65/65 [==============================] - 0s 3ms/step - loss: 0.5572 - accuracy: 0.7488 - val_loss: 0.5713 - val_accuracy: 0.7222\n",
      "Epoch 56/100\n",
      "65/65 [==============================] - 0s 3ms/step - loss: 0.5544 - accuracy: 0.7426 - val_loss: 0.5930 - val_accuracy: 0.6806\n",
      "Epoch 57/100\n",
      "65/65 [==============================] - 0s 3ms/step - loss: 0.5481 - accuracy: 0.7410 - val_loss: 0.5818 - val_accuracy: 0.7083\n",
      "Epoch 58/100\n",
      "65/65 [==============================] - 0s 3ms/step - loss: 0.5733 - accuracy: 0.7504 - val_loss: 0.5586 - val_accuracy: 0.7361\n",
      "Epoch 59/100\n",
      "65/65 [==============================] - 0s 3ms/step - loss: 0.5548 - accuracy: 0.7520 - val_loss: 0.5661 - val_accuracy: 0.7083\n",
      "Epoch 60/100\n",
      "65/65 [==============================] - 0s 3ms/step - loss: 0.5530 - accuracy: 0.7426 - val_loss: 0.5646 - val_accuracy: 0.7222\n",
      "Epoch 61/100\n",
      "65/65 [==============================] - 0s 3ms/step - loss: 0.5550 - accuracy: 0.7598 - val_loss: 0.5565 - val_accuracy: 0.7361\n",
      "Epoch 62/100\n",
      "65/65 [==============================] - 0s 3ms/step - loss: 0.5520 - accuracy: 0.7520 - val_loss: 0.5563 - val_accuracy: 0.7083\n",
      "Epoch 63/100\n",
      "65/65 [==============================] - 0s 3ms/step - loss: 0.5440 - accuracy: 0.7598 - val_loss: 0.5693 - val_accuracy: 0.7083\n",
      "Epoch 64/100\n",
      "65/65 [==============================] - 0s 2ms/step - loss: 0.5306 - accuracy: 0.7629 - val_loss: 0.5799 - val_accuracy: 0.6944\n",
      "Epoch 65/100\n",
      "65/65 [==============================] - 0s 2ms/step - loss: 0.5562 - accuracy: 0.7410 - val_loss: 0.5718 - val_accuracy: 0.7083\n",
      "Epoch 66/100\n",
      "65/65 [==============================] - 0s 2ms/step - loss: 0.5419 - accuracy: 0.7488 - val_loss: 0.5857 - val_accuracy: 0.6944\n",
      "Epoch 67/100\n",
      "65/65 [==============================] - 0s 2ms/step - loss: 0.5371 - accuracy: 0.7722 - val_loss: 0.5601 - val_accuracy: 0.7222\n",
      "Epoch 68/100\n",
      "65/65 [==============================] - 0s 3ms/step - loss: 0.5378 - accuracy: 0.7707 - val_loss: 0.6011 - val_accuracy: 0.6806\n",
      "Epoch 69/100\n",
      "65/65 [==============================] - 0s 2ms/step - loss: 0.5653 - accuracy: 0.7504 - val_loss: 0.5639 - val_accuracy: 0.7222\n",
      "Epoch 70/100\n",
      "65/65 [==============================] - 0s 3ms/step - loss: 0.5374 - accuracy: 0.7644 - val_loss: 0.5580 - val_accuracy: 0.7083\n",
      "Epoch 71/100\n",
      "65/65 [==============================] - 0s 3ms/step - loss: 0.5501 - accuracy: 0.7644 - val_loss: 0.6021 - val_accuracy: 0.6806\n",
      "Epoch 72/100\n",
      "65/65 [==============================] - 0s 2ms/step - loss: 0.5407 - accuracy: 0.7488 - val_loss: 0.5606 - val_accuracy: 0.6944\n",
      "Epoch 73/100\n",
      "65/65 [==============================] - 0s 2ms/step - loss: 0.5551 - accuracy: 0.7598 - val_loss: 0.5491 - val_accuracy: 0.7222\n",
      "Epoch 74/100\n",
      "65/65 [==============================] - 0s 3ms/step - loss: 0.5350 - accuracy: 0.7754 - val_loss: 0.5671 - val_accuracy: 0.7083\n",
      "Epoch 75/100\n",
      "65/65 [==============================] - 0s 3ms/step - loss: 0.5411 - accuracy: 0.7520 - val_loss: 0.5698 - val_accuracy: 0.6944\n",
      "Epoch 76/100\n",
      "65/65 [==============================] - 0s 3ms/step - loss: 0.5495 - accuracy: 0.7566 - val_loss: 0.5656 - val_accuracy: 0.7083\n",
      "Epoch 77/100\n",
      "65/65 [==============================] - 0s 3ms/step - loss: 0.5381 - accuracy: 0.7644 - val_loss: 0.5693 - val_accuracy: 0.6944\n",
      "Epoch 78/100\n",
      "65/65 [==============================] - 0s 3ms/step - loss: 0.5439 - accuracy: 0.7488 - val_loss: 0.5548 - val_accuracy: 0.7222\n",
      "Epoch 79/100\n",
      "65/65 [==============================] - 0s 3ms/step - loss: 0.5365 - accuracy: 0.7441 - val_loss: 0.5706 - val_accuracy: 0.6944\n",
      "Epoch 80/100\n",
      "65/65 [==============================] - 0s 3ms/step - loss: 0.5338 - accuracy: 0.7582 - val_loss: 0.5568 - val_accuracy: 0.7083\n",
      "Epoch 81/100\n",
      "65/65 [==============================] - 0s 2ms/step - loss: 0.5241 - accuracy: 0.7613 - val_loss: 0.5820 - val_accuracy: 0.6806\n",
      "Epoch 82/100\n",
      "65/65 [==============================] - 0s 3ms/step - loss: 0.5305 - accuracy: 0.7598 - val_loss: 0.5896 - val_accuracy: 0.6806\n",
      "Epoch 83/100\n",
      "65/65 [==============================] - 0s 2ms/step - loss: 0.5428 - accuracy: 0.7520 - val_loss: 0.5640 - val_accuracy: 0.7222\n",
      "Epoch 84/100\n",
      "65/65 [==============================] - 0s 2ms/step - loss: 0.5398 - accuracy: 0.7644 - val_loss: 0.5592 - val_accuracy: 0.7222\n",
      "Epoch 85/100\n",
      "65/65 [==============================] - 0s 3ms/step - loss: 0.5218 - accuracy: 0.7754 - val_loss: 0.5513 - val_accuracy: 0.7083\n",
      "Epoch 86/100\n",
      "65/65 [==============================] - 0s 3ms/step - loss: 0.5366 - accuracy: 0.7691 - val_loss: 0.5538 - val_accuracy: 0.7222\n",
      "Epoch 87/100\n",
      "65/65 [==============================] - 0s 3ms/step - loss: 0.5371 - accuracy: 0.7707 - val_loss: 0.5651 - val_accuracy: 0.7083\n",
      "Epoch 88/100\n",
      "65/65 [==============================] - 0s 2ms/step - loss: 0.5343 - accuracy: 0.7488 - val_loss: 0.5637 - val_accuracy: 0.7222\n",
      "Epoch 89/100\n",
      "65/65 [==============================] - 0s 3ms/step - loss: 0.5309 - accuracy: 0.7691 - val_loss: 0.5742 - val_accuracy: 0.6944\n",
      "Epoch 90/100\n",
      "65/65 [==============================] - 0s 3ms/step - loss: 0.5227 - accuracy: 0.7691 - val_loss: 0.5815 - val_accuracy: 0.6944\n",
      "Epoch 91/100\n",
      "65/65 [==============================] - 0s 3ms/step - loss: 0.5387 - accuracy: 0.7551 - val_loss: 0.5475 - val_accuracy: 0.7083\n",
      "Epoch 92/100\n",
      "65/65 [==============================] - 0s 3ms/step - loss: 0.5240 - accuracy: 0.7660 - val_loss: 0.5673 - val_accuracy: 0.6944\n",
      "Epoch 93/100\n",
      "65/65 [==============================] - 0s 3ms/step - loss: 0.5330 - accuracy: 0.7800 - val_loss: 0.5871 - val_accuracy: 0.6806\n",
      "Epoch 94/100\n",
      "65/65 [==============================] - 0s 3ms/step - loss: 0.5213 - accuracy: 0.7707 - val_loss: 0.5825 - val_accuracy: 0.6806\n",
      "Epoch 95/100\n",
      "65/65 [==============================] - 0s 2ms/step - loss: 0.5220 - accuracy: 0.7691 - val_loss: 0.5720 - val_accuracy: 0.7083\n",
      "Epoch 96/100\n",
      "65/65 [==============================] - 0s 2ms/step - loss: 0.5242 - accuracy: 0.7582 - val_loss: 0.5645 - val_accuracy: 0.7083\n",
      "Epoch 97/100\n",
      "65/65 [==============================] - 0s 3ms/step - loss: 0.5121 - accuracy: 0.7941 - val_loss: 0.5606 - val_accuracy: 0.6944\n",
      "Epoch 98/100\n",
      "65/65 [==============================] - 0s 3ms/step - loss: 0.5231 - accuracy: 0.7598 - val_loss: 0.5560 - val_accuracy: 0.7361\n",
      "Epoch 99/100\n",
      "65/65 [==============================] - 0s 5ms/step - loss: 0.5374 - accuracy: 0.7582 - val_loss: 0.5747 - val_accuracy: 0.6944\n",
      "Epoch 100/100\n",
      "65/65 [==============================] - 0s 6ms/step - loss: 0.5121 - accuracy: 0.7660 - val_loss: 0.5451 - val_accuracy: 0.7361\n"
     ]
    }
   ],
   "source": [
    "history=classifier.fit(X_train, y_train, batch_size = 10, epochs = 100, validation_split=0.1,verbose = 1,shuffle=True )\n",
    "# x=None, y=None, batch_size=None, epochs=1, verbose='auto', callbacks=None, validation_split=0.0, validation_data=None, shuffle=True, class_weight=None, sample_weight=None, initial_epoch=0, steps_per_epoch=None, validation_steps=None, validation_batch_size=None, validation_freq=1, max_queue_size=10, workers=1, use_multiprocessing=False) method of keras.engine.sequential.Sequential instance\n",
    "#     Trains the model for a fixed number of epochs (iterations on a dataset)."
   ]
  },
  {
   "cell_type": "code",
   "execution_count": 319,
   "metadata": {
    "colab": {
     "base_uri": "https://localhost:8080/",
     "height": 265
    },
    "id": "HluPrL1FoTgr",
    "outputId": "a8b10fdb-899e-42b7-b2ce-6a5c8c0422cb"
   },
   "outputs": [
    {
     "data": {
      "image/png": "[encoded data removed]",
      "text/plain": [
       "<Figure size 432x288 with 1 Axes>"
      ]
     },
     "metadata": {
      "needs_background": "light"
     },
     "output_type": "display_data"
    }
   ],
   "source": [
    "from matplotlib import pyplot\n",
    "pyplot.plot(history.history['accuracy'])\n",
    "pyplot.show()"
   ]
  },
  {
   "cell_type": "code",
   "execution_count": 320,
   "metadata": {
    "id": "rGL14_oFj7D0"
   },
   "outputs": [],
   "source": [
    "deep_learning_pred = classifier.predict(X_test)\n",
    "deep_learning_pred=deep_learning_pred.round()"
   ]
  },
  {
   "cell_type": "code",
   "execution_count": 321,
   "metadata": {
    "id": "ckAsKsRmplfF"
   },
   "outputs": [],
   "source": [
    "def prediction_deeplearning(labels,pred) : \n",
    "  taux = (pred == labels)[1]\n",
    "  unique, counts = np.unique(taux, return_counts=True)\n",
    "  d = dict(zip(unique, counts))\n",
    "  return d[True]/len(labels)"
   ]
  },
  {
   "cell_type": "code",
   "execution_count": 322,
   "metadata": {
    "colab": {
     "base_uri": "https://localhost:8080/"
    },
    "id": "_Lqqh82GrVZa",
    "outputId": "6a33c36c-aef5-43ae-c4d3-8c134da39f9d"
   },
   "outputs": [
    {
     "data": {
      "text/plain": [
       "0.6348314606741573"
      ]
     },
     "execution_count": 322,
     "metadata": {},
     "output_type": "execute_result"
    }
   ],
   "source": [
    "prediction_deeplearning(y_test , deep_learning_pred ) #Resultat assez bàs , faut encore ajouter des coches et des bonnes metrics/optimizers ...."
   ]
  }
 ],
 "metadata": {
  "colab": {
   "collapsed_sections": [],
   "name": "tp_projet_v2.ipynb",
   "provenance": []
  },
  "kernelspec": {
   "display_name": "Python 3",
   "language": "python",
   "name": "python3"
  },
  "language_info": {
   "codemirror_mode": {
    "name": "ipython",
    "version": 3
   },
   "file_extension": ".py",
   "mimetype": "text/x-python",
   "name": "python",
   "nbconvert_exporter": "python",
   "pygments_lexer": "ipython3",
   "version": "3.8.5"
  }
 },
 "nbformat": 4,
 "nbformat_minor": 1
}
